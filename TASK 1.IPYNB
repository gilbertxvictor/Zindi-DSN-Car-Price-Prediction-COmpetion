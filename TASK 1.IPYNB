{
 "cells": [
  {
   "cell_type": "code",
   "execution_count": 1,
   "metadata": {},
   "outputs": [],
   "source": [
    "# import relevant Libraies\n",
    "import pandas as pd\n",
    "import numpy as np\n",
    "import matplotlib.pyplot as plt\n",
    "import seaborn as sns\n",
    "import missingno\n",
    "from skimpy import skim"
   ]
  },
  {
   "cell_type": "code",
   "execution_count": 107,
   "metadata": {},
   "outputs": [
    {
     "name": "stdout",
     "output_type": "stream",
     "text": [
      "<class 'pandas.core.frame.DataFrame'>\n",
      "RangeIndex: 7205 entries, 0 to 7204\n",
      "Data columns (total 9 columns):\n",
      " #   Column                  Non-Null Count  Dtype  \n",
      "---  ------                  --------------  -----  \n",
      " 0   VehicleID               7205 non-null   object \n",
      " 1   Location                7205 non-null   object \n",
      " 2   Maker                   7205 non-null   object \n",
      " 3   Model                   7205 non-null   object \n",
      " 4   Year                    7184 non-null   object \n",
      " 5   Colour                  7205 non-null   object \n",
      " 6   Amount (Million Naira)  7188 non-null   float64\n",
      " 7   Type                    7008 non-null   object \n",
      " 8   Distance                4845 non-null   object \n",
      "dtypes: float64(1), object(8)\n",
      "memory usage: 506.7+ KB\n"
     ]
    }
   ],
   "source": [
    "#IMPORT TRAIN DATASET\n",
    "train =  pd.read_csv('Train.csv')\n",
    "\n",
    "#IMPORT TEST DATASET\n",
    "test =  pd.read_csv('Test.csv')\n",
    "\n",
    "train.info()"
   ]
  },
  {
   "cell_type": "code",
   "execution_count": 108,
   "metadata": {},
   "outputs": [
    {
     "data": {
      "text/html": [
       "<div>\n",
       "<style scoped>\n",
       "    .dataframe tbody tr th:only-of-type {\n",
       "        vertical-align: middle;\n",
       "    }\n",
       "\n",
       "    .dataframe tbody tr th {\n",
       "        vertical-align: top;\n",
       "    }\n",
       "\n",
       "    .dataframe thead th {\n",
       "        text-align: right;\n",
       "    }\n",
       "</style>\n",
       "<table border=\"1\" class=\"dataframe\">\n",
       "  <thead>\n",
       "    <tr style=\"text-align: right;\">\n",
       "      <th></th>\n",
       "      <th>VehicleID</th>\n",
       "      <th>Location</th>\n",
       "      <th>Maker</th>\n",
       "      <th>Model</th>\n",
       "      <th>Year</th>\n",
       "      <th>Colour</th>\n",
       "      <th>Amount (Million Naira)</th>\n",
       "      <th>Type</th>\n",
       "      <th>Distance</th>\n",
       "    </tr>\n",
       "  </thead>\n",
       "  <tbody>\n",
       "    <tr>\n",
       "      <th>0</th>\n",
       "      <td>VHL12546</td>\n",
       "      <td>Abuja</td>\n",
       "      <td>Honda</td>\n",
       "      <td>Accord Coupe EX V-6</td>\n",
       "      <td>2,011</td>\n",
       "      <td>Silver</td>\n",
       "      <td>2.2</td>\n",
       "      <td>Nigerian Used</td>\n",
       "      <td>NaN</td>\n",
       "    </tr>\n",
       "    <tr>\n",
       "      <th>1</th>\n",
       "      <td>VHL18827</td>\n",
       "      <td>Ibadan</td>\n",
       "      <td>Hyundai</td>\n",
       "      <td>Sonata</td>\n",
       "      <td>2,012</td>\n",
       "      <td>Silver</td>\n",
       "      <td>3.5</td>\n",
       "      <td>Nigerian Used</td>\n",
       "      <td>125,000</td>\n",
       "    </tr>\n",
       "    <tr>\n",
       "      <th>2</th>\n",
       "      <td>VHL19499</td>\n",
       "      <td>Lagos</td>\n",
       "      <td>Lexus</td>\n",
       "      <td>RX 350</td>\n",
       "      <td>2,010</td>\n",
       "      <td>Red</td>\n",
       "      <td>9.2</td>\n",
       "      <td>Foreign Used</td>\n",
       "      <td>110,852</td>\n",
       "    </tr>\n",
       "    <tr>\n",
       "      <th>3</th>\n",
       "      <td>VHL17991</td>\n",
       "      <td>Abuja</td>\n",
       "      <td>Mercedes-Benz</td>\n",
       "      <td>GLE-Class</td>\n",
       "      <td>2,017</td>\n",
       "      <td>Blue</td>\n",
       "      <td>22.8</td>\n",
       "      <td>Foreign Used</td>\n",
       "      <td>30,000</td>\n",
       "    </tr>\n",
       "    <tr>\n",
       "      <th>4</th>\n",
       "      <td>VHL12170</td>\n",
       "      <td>Ibadan</td>\n",
       "      <td>Toyota</td>\n",
       "      <td>Highlander</td>\n",
       "      <td>2,002</td>\n",
       "      <td>Red</td>\n",
       "      <td>2.6</td>\n",
       "      <td>Nigerian Used</td>\n",
       "      <td>125,206</td>\n",
       "    </tr>\n",
       "  </tbody>\n",
       "</table>\n",
       "</div>"
      ],
      "text/plain": [
       "  VehicleID Location          Maker                Model   Year  Colour  \\\n",
       "0  VHL12546    Abuja          Honda  Accord Coupe EX V-6  2,011  Silver   \n",
       "1  VHL18827   Ibadan        Hyundai               Sonata  2,012  Silver   \n",
       "2  VHL19499    Lagos          Lexus               RX 350  2,010     Red   \n",
       "3  VHL17991    Abuja  Mercedes-Benz            GLE-Class  2,017    Blue   \n",
       "4  VHL12170   Ibadan         Toyota           Highlander  2,002     Red   \n",
       "\n",
       "   Amount (Million Naira)           Type Distance  \n",
       "0                     2.2  Nigerian Used      NaN  \n",
       "1                     3.5  Nigerian Used  125,000  \n",
       "2                     9.2   Foreign Used  110,852  \n",
       "3                    22.8   Foreign Used   30,000  \n",
       "4                     2.6  Nigerian Used  125,206  "
      ]
     },
     "execution_count": 108,
     "metadata": {},
     "output_type": "execute_result"
    }
   ],
   "source": [
    "train.head()"
   ]
  },
  {
   "cell_type": "markdown",
   "metadata": {},
   "source": [
    "#### DATE \n",
    "\n",
    "- Convert to valid type \n",
    "- CHECK YEAR TO ENSURE VALIDITY\n",
    "- FIND MISSING YEAR\n",
    "    - FILL OR DROP MISSING DATES "
   ]
  },
  {
   "cell_type": "code",
   "execution_count": 109,
   "metadata": {},
   "outputs": [
    {
     "data": {
      "text/plain": [
       "<AxesSubplot:>"
      ]
     },
     "execution_count": 109,
     "metadata": {},
     "output_type": "execute_result"
    },
    {
     "data": {
      "image/png": "[encoded data removed]",
      "text/plain": [
       "<Figure size 432x288 with 1 Axes>"
      ]
     },
     "metadata": {
      "needs_background": "light"
     },
     "output_type": "display_data"
    }
   ],
   "source": [
    "# CLEAN YEAR COLUMN AND \n",
    "\n",
    "train.Year = train.Year.str.replace(',','')\n",
    "train.Year.value_counts().sort_index().plot(kind = 'bar')\n"
   ]
  },
  {
   "cell_type": "code",
   "execution_count": 110,
   "metadata": {},
   "outputs": [
    {
     "name": "stderr",
     "output_type": "stream",
     "text": [
      "C:\\Users\\Owner\\AppData\\Local\\Temp/ipykernel_10732/3944539053.py:11: SettingWithCopyWarning: \n",
      "A value is trying to be set on a copy of a slice from a DataFrame\n",
      "\n",
      "See the caveats in the documentation: https://pandas.pydata.org/pandas-docs/stable/user_guide/indexing.html#returning-a-view-versus-a-copy\n",
      "  train.Year[train.Year.isna()] = train.Year[train.Year.isna()].apply(randYear)\n"
     ]
    }
   ],
   "source": [
    "from random import randint\n",
    "\n",
    "# select the 5% and 95%\n",
    "a = train.Year[train.Year.notna()].astype(int).quantile(0.05)\n",
    "b = train.Year[train.Year.notna()].astype(int).quantile(0.95)\n",
    "c = train.Year[train.Year.notna()].astype(int).mean()\n",
    "\n",
    "randYear = lambda x : randint(a,b)\n",
    "\n",
    "## FILL NA VALUE WITH RANDOM YEAR IN THE 5% and 95% PERCENTILE\n",
    "train.Year[train.Year.isna()] = train.Year[train.Year.isna()].apply(randYear)\n",
    "\n",
    "## CONVERT COLUMN TO INTEGER\n",
    "train.Year = train.Year.astype(float)"
   ]
  },
  {
   "cell_type": "markdown",
   "metadata": {},
   "source": [
    "#### CLEANING DISTANCE COLUMN\n",
    "- CLEANING STRING AND FILE TYPE CONVERSION"
   ]
  },
  {
   "cell_type": "code",
   "execution_count": 111,
   "metadata": {},
   "outputs": [],
   "source": [
    "# CLEAN YEAR COLUMN AND \n",
    "train.Distance = train.Distance.str.replace(',','')\n",
    "train.Distance = train.Distance.astype(float)"
   ]
  },
  {
   "cell_type": "code",
   "execution_count": 112,
   "metadata": {},
   "outputs": [],
   "source": [
    "# rename amount Column\n",
    "train.rename(columns={\"Amount (Million Naira)\": \"Amount\"}, inplace = True)\n"
   ]
  },
  {
   "cell_type": "markdown",
   "metadata": {},
   "source": [
    "# OPTION 1 \n",
    "- using linear regression fill missing distances "
   ]
  },
  {
   "cell_type": "markdown",
   "metadata": {},
   "source": [
    "## DROP COLUMNS\n",
    "- Drop Vechile ID and Colour"
   ]
  },
  {
   "cell_type": "code",
   "execution_count": 8,
   "metadata": {},
   "outputs": [],
   "source": [
    "train1 = train.copy()\n",
    "train1.drop(columns=['VehicleID', 'Colour'], inplace = True)"
   ]
  },
  {
   "cell_type": "code",
   "execution_count": 9,
   "metadata": {},
   "outputs": [
    {
     "data": {
      "text/plain": [
       "<AxesSubplot:>"
      ]
     },
     "execution_count": 9,
     "metadata": {},
     "output_type": "execute_result"
    },
    {
     "data": {
      "image/png": "[encoded data removed]",
      "text/plain": [
       "<Figure size 1800x720 with 2 Axes>"
      ]
     },
     "metadata": {
      "needs_background": "light"
     },
     "output_type": "display_data"
    }
   ],
   "source": [
    "# View distribution of missing values\n",
    "missingno.matrix(train1)"
   ]
  },
  {
   "cell_type": "code",
   "execution_count": 10,
   "metadata": {},
   "outputs": [],
   "source": [
    "#sort missing values by categories \n",
    "train1.sort_values(by = ['Location', 'Maker', 'Model', 'Year', 'Type' ], inplace = True)\n",
    "train1.reset_index(drop =True , inplace = True)"
   ]
  },
  {
   "cell_type": "code",
   "execution_count": 11,
   "metadata": {},
   "outputs": [],
   "source": [
    "## fill Type Colums\n",
    "\n",
    "def defineType(row):\n",
    "    \n",
    "    from random import choice\n",
    "\n",
    "    if row['Location'] == 'Abuja':\n",
    "        \n",
    "        if (row['Distance']  > 0) & (row['Distance']  < 20000):\n",
    "            return 'Brand New'\n",
    "        elif (row['Distance']  > 20000) & (row['Distance']  < 50000) :\n",
    "            return 'Foreign Used'\n",
    "        elif (row['Distance']  > 50000) & (row['Distance']  < 100000): \n",
    "            return choice(['Brand New', 'Foreign Used'])\n",
    "        else:\n",
    "            return 'Foreign Used'\n",
    "        \n",
    "    elif row['Location'] == 'Lagos':\n",
    "    \n",
    "        if (row['Distance']  > 0) & (row['Distance']  < 20000):\n",
    "            return 'Brand New'\n",
    "        elif (row['Distance']  > 20000) & (row['Distance']  < 90000) :\n",
    "            return 'Foreign Used'\n",
    "        elif (row['Distance']  > 90000) & (row['Distance']  < 140000): \n",
    "            return choice(['Brand New', 'Foreign Used'])\n",
    "        else:\n",
    "            return 'Foreign Used'\n",
    "        \n",
    "    elif row['Location'] == 'Ibadan':\n",
    "    \n",
    "         if (row['Distance']  > 0) & (row['Distance']  < 20000):\n",
    "             return 'Brand New'\n",
    "         elif (row['Distance']  > 20000) & (row['Distance']  < 100000) :\n",
    "             return 'Foreign Used'\n",
    "         elif (row['Distance']  > 100000) & (row['Distance']  < 140000): \n",
    "             return choice(['Brand New', 'Foreign Used'])\n",
    "         else:\n",
    "             return 'Foreign Used'"
   ]
  },
  {
   "cell_type": "code",
   "execution_count": 12,
   "metadata": {},
   "outputs": [
    {
     "name": "stderr",
     "output_type": "stream",
     "text": [
      "C:\\Users\\Owner\\AppData\\Local\\Temp/ipykernel_10732/3627145900.py:1: SettingWithCopyWarning: \n",
      "A value is trying to be set on a copy of a slice from a DataFrame\n",
      "\n",
      "See the caveats in the documentation: https://pandas.pydata.org/pandas-docs/stable/user_guide/indexing.html#returning-a-view-versus-a-copy\n",
      "  train1.Type[train1.Type.isna()] = train1[train1.Type.isna()].apply(defineType, axis =1)\n"
     ]
    }
   ],
   "source": [
    "train1.Type[train1.Type.isna()] = train1[train1.Type.isna()].apply(defineType, axis =1)\n"
   ]
  },
  {
   "cell_type": "code",
   "execution_count": 13,
   "metadata": {},
   "outputs": [
    {
     "data": {
      "text/plain": [
       "<matplotlib.legend.Legend at 0x1deaaaebe80>"
      ]
     },
     "execution_count": 13,
     "metadata": {},
     "output_type": "execute_result"
    },
    {
     "data": {
      "image/png": "[encoded data removed]",
      "text/plain": [
       "<Figure size 1008x720 with 4 Axes>"
      ]
     },
     "metadata": {
      "needs_background": "light"
     },
     "output_type": "display_data"
    }
   ],
   "source": [
    "plot_objects = plt.subplots(nrows=2, ncols=2, figsize=(14, 10))\n",
    "fig, ((ax1, ax2), (ax3, ax4)) = plot_objects\n",
    "\n",
    "\n",
    "\n",
    "for i in train1.Type.unique():\n",
    "    \n",
    "    ax1.plot(train1[train1.Type == i].groupby('Year').agg({'Amount' : 'mean'}))\n",
    "    ax2.plot(train1[train1.Type == i].groupby('Year').agg({'Distance' : 'mean'}))\n",
    " \n",
    "    \n",
    "for i in train1.Location.unique():\n",
    "    \n",
    "    ax3.plot(train1[train1.Location == i].groupby('Year').agg({'Amount' : 'mean'}))\n",
    "    ax4.plot(train1[train1.Location == i].groupby('Year').agg({'Distance' : 'mean'}))\n",
    "    \n",
    "    \n",
    "ax1.legend(train1.Type.unique())\n",
    "#ax1.title('Price Distribution by Year and Type')\n",
    "\n",
    "ax2.legend(train1.Type.unique())\n",
    "#ax2.title('Distance Distribution by Year and Type')\n",
    "\n",
    "ax3.legend(train1.Location.unique())\n",
    "#ax3.title('Price Distribution by Year and Location')\n",
    "\n",
    "ax4.legend(train1.Location.unique())\n",
    "#ax2.title('Distance Distribution by Year and Location')"
   ]
  },
  {
   "cell_type": "code",
   "execution_count": 14,
   "metadata": {},
   "outputs": [
    {
     "data": {
      "text/plain": [
       "<AxesSubplot:xlabel='Type', ylabel='Distance'>"
      ]
     },
     "execution_count": 14,
     "metadata": {},
     "output_type": "execute_result"
    },
    {
     "data": {
      "image/png": "[encoded data removed]",
      "text/plain": [
       "<Figure size 1440x720 with 1 Axes>"
      ]
     },
     "metadata": {
      "needs_background": "light"
     },
     "output_type": "display_data"
    }
   ],
   "source": [
    "##create a list of verified values of type and distance\n",
    "typexDis_noNull = train1[['Type', 'Distance','Location']][(train1.Type.notna()) & (train1.Distance.notna())]\n",
    "\n",
    "f, ax = plt.subplots(figsize=(20, 10))\n",
    "#sns.violinplot(data = typexDis_noNull[typexDis_noNull.Distance < 600000], x='Type', y = 'Distance', hue = 'Location', dodge=True )\n",
    "sns.stripplot(data = typexDis_noNull[typexDis_noNull.Distance < 600000], x='Type', y = 'Distance', hue = 'Location', dodge=True )"
   ]
  },
  {
   "cell_type": "code",
   "execution_count": 15,
   "metadata": {},
   "outputs": [
    {
     "name": "stderr",
     "output_type": "stream",
     "text": [
      "C:\\Users\\Owner\\AppData\\Local\\Temp/ipykernel_10732/1177045787.py:26: SettingWithCopyWarning: \n",
      "A value is trying to be set on a copy of a slice from a DataFrame\n",
      "\n",
      "See the caveats in the documentation: https://pandas.pydata.org/pandas-docs/stable/user_guide/indexing.html#returning-a-view-versus-a-copy\n",
      "  train1.Distance[train1.Distance.isna()] = model.predict(a1_test)\n"
     ]
    }
   ],
   "source": [
    "#FILL MISSING AMOUNTS WITH 'FFILL'\n",
    "train1.Amount.fillna(method= 'pad', inplace=True)\n",
    "\n",
    "# TEST\n",
    "a1_test = train1[train1.Distance.isna()].drop(columns= ['Model', 'Distance', 'Maker'])\n",
    "\n",
    "#TRAIN\n",
    "a1_train = train1[~train1.Distance.isna()].drop(columns= ['Model', 'Maker'])\n",
    "a1_trainTarget = a1_train.Distance\n",
    "a1_train.drop(columns= 'Distance', inplace= True)\n",
    "\n",
    "#CONVERT TO MACHINE READABLE\n",
    "a1_train = pd.get_dummies(a1_train)\n",
    "a1_test  = pd.get_dummies(a1_test)\n",
    "\n",
    "\n",
    "#EVAL DISTANCE USING RANDOM FOR ATTAINING MISSING DISTANCE\n",
    "from sklearn.ensemble import AdaBoostRegressor\n",
    "model = AdaBoostRegressor()\n",
    "\n",
    "#Train Model\n",
    "model.fit(a1_train, a1_trainTarget)\n",
    "\n",
    "# Make PREDICTIONS \n",
    "model.predict(a1_test)\n",
    "train1.Distance[train1.Distance.isna()] = model.predict(a1_test)\n"
   ]
  },
  {
   "cell_type": "code",
   "execution_count": 16,
   "metadata": {},
   "outputs": [
    {
     "data": {
      "text/plain": [
       "<AxesSubplot:>"
      ]
     },
     "execution_count": 16,
     "metadata": {},
     "output_type": "execute_result"
    },
    {
     "data": {
      "image/png": "[encoded data removed]",
      "text/plain": [
       "<Figure size 1800x720 with 2 Axes>"
      ]
     },
     "metadata": {
      "needs_background": "light"
     },
     "output_type": "display_data"
    }
   ],
   "source": [
    "missingno.matrix(train1)"
   ]
  },
  {
   "cell_type": "markdown",
   "metadata": {},
   "source": [
    "### CLEANING TEST DATA "
   ]
  },
  {
   "cell_type": "code",
   "execution_count": 17,
   "metadata": {},
   "outputs": [
    {
     "data": {
      "text/plain": [
       "<AxesSubplot:>"
      ]
     },
     "execution_count": 17,
     "metadata": {},
     "output_type": "execute_result"
    },
    {
     "data": {
      "image/png": "[encoded data removed]",
      "text/plain": [
       "<Figure size 1800x720 with 2 Axes>"
      ]
     },
     "metadata": {
      "needs_background": "light"
     },
     "output_type": "display_data"
    }
   ],
   "source": [
    "test.Year = test.Year.str.replace(',','')\n",
    "\n",
    "\n",
    "test1 = test.copy()\n",
    "missingno.matrix(test1)"
   ]
  },
  {
   "cell_type": "code",
   "execution_count": 18,
   "metadata": {},
   "outputs": [
    {
     "data": {
      "text/html": [
       "<div>\n",
       "<style scoped>\n",
       "    .dataframe tbody tr th:only-of-type {\n",
       "        vertical-align: middle;\n",
       "    }\n",
       "\n",
       "    .dataframe tbody tr th {\n",
       "        vertical-align: top;\n",
       "    }\n",
       "\n",
       "    .dataframe thead th {\n",
       "        text-align: right;\n",
       "    }\n",
       "</style>\n",
       "<table border=\"1\" class=\"dataframe\">\n",
       "  <thead>\n",
       "    <tr style=\"text-align: right;\">\n",
       "      <th></th>\n",
       "      <th>VehicleID</th>\n",
       "      <th>Location</th>\n",
       "      <th>Maker</th>\n",
       "      <th>Model</th>\n",
       "      <th>Year</th>\n",
       "      <th>Colour</th>\n",
       "      <th>Type</th>\n",
       "      <th>Distance</th>\n",
       "    </tr>\n",
       "  </thead>\n",
       "  <tbody>\n",
       "    <tr>\n",
       "      <th>0</th>\n",
       "      <td>VHL18518</td>\n",
       "      <td>Abuja</td>\n",
       "      <td>BMW</td>\n",
       "      <td>323i</td>\n",
       "      <td>2008</td>\n",
       "      <td>White</td>\n",
       "      <td>Foreign Used</td>\n",
       "      <td>30524.0</td>\n",
       "    </tr>\n",
       "    <tr>\n",
       "      <th>1</th>\n",
       "      <td>VHL17149</td>\n",
       "      <td>Lagos</td>\n",
       "      <td>Toyota</td>\n",
       "      <td>Camry</td>\n",
       "      <td>2013</td>\n",
       "      <td>White</td>\n",
       "      <td>Foreign Used</td>\n",
       "      <td>NaN</td>\n",
       "    </tr>\n",
       "    <tr>\n",
       "      <th>2</th>\n",
       "      <td>VHL10927</td>\n",
       "      <td>Lagos</td>\n",
       "      <td>Toyota</td>\n",
       "      <td>Highlander Limited V6</td>\n",
       "      <td>2005</td>\n",
       "      <td>Gold</td>\n",
       "      <td>Foreign Used</td>\n",
       "      <td>NaN</td>\n",
       "    </tr>\n",
       "  </tbody>\n",
       "</table>\n",
       "</div>"
      ],
      "text/plain": [
       "  VehicleID Location   Maker                  Model  Year Colour  \\\n",
       "0  VHL18518    Abuja     BMW                   323i  2008  White   \n",
       "1  VHL17149    Lagos  Toyota                  Camry  2013  White   \n",
       "2  VHL10927    Lagos  Toyota  Highlander Limited V6  2005   Gold   \n",
       "\n",
       "           Type  Distance  \n",
       "0  Foreign Used   30524.0  \n",
       "1  Foreign Used       NaN  \n",
       "2  Foreign Used       NaN  "
      ]
     },
     "execution_count": 18,
     "metadata": {},
     "output_type": "execute_result"
    }
   ],
   "source": [
    "test1.head(3)"
   ]
  },
  {
   "cell_type": "markdown",
   "metadata": {},
   "source": [
    "### CLEAN YEAR COLUMN\n",
    "- CLEAN YEAR AND CONVERT TO APPOPRIATE FORMAT(INT)"
   ]
  },
  {
   "cell_type": "code",
   "execution_count": 19,
   "metadata": {},
   "outputs": [
    {
     "data": {
      "text/plain": [
       "2"
      ]
     },
     "execution_count": 19,
     "metadata": {},
     "output_type": "execute_result"
    }
   ],
   "source": [
    "#count number of missing year\n",
    "len(test1.Year[test1.Year.isna()])"
   ]
  },
  {
   "cell_type": "code",
   "execution_count": 20,
   "metadata": {},
   "outputs": [
    {
     "name": "stderr",
     "output_type": "stream",
     "text": [
      "C:\\Users\\Owner\\AppData\\Local\\Temp/ipykernel_10732/3495488545.py:2: SettingWithCopyWarning: \n",
      "A value is trying to be set on a copy of a slice from a DataFrame\n",
      "\n",
      "See the caveats in the documentation: https://pandas.pydata.org/pandas-docs/stable/user_guide/indexing.html#returning-a-view-versus-a-copy\n",
      "  test1.Year[test1.Year.isna()] = int(test1.Year[test1.Year.notna()].astype(int).mean())\n"
     ]
    }
   ],
   "source": [
    "# since there are mjust a few missing years(2), lets fill this years with the mean\n",
    "test1.Year[test1.Year.isna()] = int(test1.Year[test1.Year.notna()].astype(int).mean())\n",
    "\n",
    "#Convert the Year column to strings\n",
    "test1.Year = test1.Year.astype(int)"
   ]
  },
  {
   "cell_type": "code",
   "execution_count": 21,
   "metadata": {},
   "outputs": [
    {
     "name": "stderr",
     "output_type": "stream",
     "text": [
      "C:\\Users\\Owner\\AppData\\Local\\Temp/ipykernel_10732/1132138125.py:2: SettingWithCopyWarning: \n",
      "A value is trying to be set on a copy of a slice from a DataFrame\n",
      "\n",
      "See the caveats in the documentation: https://pandas.pydata.org/pandas-docs/stable/user_guide/indexing.html#returning-a-view-versus-a-copy\n",
      "  test1.Type[test1.Type.isna()] = test1[test1.Type.isna()].apply(defineType, axis =1)\n"
     ]
    }
   ],
   "source": [
    "#Fill Type Column\n",
    "test1.Type[test1.Type.isna()] = test1[test1.Type.isna()].apply(defineType, axis =1)"
   ]
  },
  {
   "cell_type": "code",
   "execution_count": 22,
   "metadata": {},
   "outputs": [
    {
     "name": "stderr",
     "output_type": "stream",
     "text": [
      "C:\\Users\\Owner\\AppData\\Local\\Temp/ipykernel_10732/1548951263.py:23: SettingWithCopyWarning: \n",
      "A value is trying to be set on a copy of a slice from a DataFrame\n",
      "\n",
      "See the caveats in the documentation: https://pandas.pydata.org/pandas-docs/stable/user_guide/indexing.html#returning-a-view-versus-a-copy\n",
      "  test1.Distance[test1.Distance.isna()] = model.predict(a2_test)\n"
     ]
    }
   ],
   "source": [
    "# TEST\n",
    "a2_test = test1[test1.Distance.isna()].drop(columns= ['VehicleID','Model', 'Distance', 'Maker', 'Colour'])\n",
    "\n",
    "#TRAIN\n",
    "a2_train       = test1[~test1.Distance.isna()].drop(columns= ['VehicleID','Model', 'Maker', 'Colour'])\n",
    "a2_trainTarget = a2_train.Distance\n",
    "a2_train.drop(columns= 'Distance', inplace= True)\n",
    "\n",
    "#CONVERT TO MACHINE READABLE\n",
    "a2_train = pd.get_dummies(a2_train)\n",
    "a2_test  = pd.get_dummies(a2_test)\n",
    "\n",
    "\n",
    "#EVAL DISTANCE USING RANDOM FOR ATTAINING MISSING DISTANCE\n",
    "from sklearn.ensemble import RandomForestRegressor\n",
    "model = RandomForestRegressor()\n",
    "\n",
    "#Train Model\n",
    "model.fit(a2_train, a2_trainTarget)\n",
    "\n",
    "# Make PREDICTIONS \n",
    "model.predict(a2_test)\n",
    "test1.Distance[test1.Distance.isna()] = model.predict(a2_test)\n"
   ]
  },
  {
   "cell_type": "code",
   "execution_count": 409,
   "metadata": {},
   "outputs": [],
   "source": [
    "# IMPLEMENT \n",
    "x = pd.get_dummies(train1.drop(columns =['Amount', \"Model\"]))\n",
    "y = train1.Amount\n",
    "\n",
    "\n",
    "Vehicle = test1.VehicleID\n",
    "x_test = pd.get_dummies(test1.drop(columns = ['VehicleID', 'Colour', 'Model']))\n",
    "\n",
    "for col in x.columns:\n",
    "    if col not in x_test.columns:\n",
    "        x_test[col] = 0\n",
    "        \n",
    "for col in x_test.columns:\n",
    "    if col not in x.columns:\n",
    "        x[col] = 0\n",
    "\n",
    "\n",
    "from sklearn.neighbors import KNeighborsRegressor\n",
    "model = KNeighborsRegressor()\n",
    "\n",
    "#Train Model\n",
    "model.fit(x, y)\n",
    "\n",
    "# Make PREDICTIONS \n",
    "prices = model.predict(x_test)\n",
    "\n",
    "#SAEV AS FILE\n",
    "pd.DataFrame({'VehicleID' : Vehicle , 'Amount (Million Naira)' : prices}).to_csv('Submissionknn.csv', index =- False)"
   ]
  },
  {
   "cell_type": "code",
   "execution_count": 408,
   "metadata": {},
   "outputs": [
    {
     "data": {
      "text/plain": [
       "0        4.50\n",
       "1        7.00\n",
       "2        7.50\n",
       "3        5.00\n",
       "4       12.00\n",
       "        ...  \n",
       "7200     2.25\n",
       "7201     7.85\n",
       "7202     2.59\n",
       "7203     3.04\n",
       "7204     3.04\n",
       "Name: Amount, Length: 7205, dtype: float64"
      ]
     },
     "execution_count": 408,
     "metadata": {},
     "output_type": "execute_result"
    }
   ],
   "source": [
    "y"
   ]
  },
  {
   "cell_type": "markdown",
   "metadata": {},
   "source": []
  },
  {
   "cell_type": "markdown",
   "metadata": {},
   "source": [
    "# OPTION 2\n",
    "- using ffill to fill nulls"
   ]
  },
  {
   "cell_type": "code",
   "execution_count": 24,
   "metadata": {},
   "outputs": [],
   "source": [
    "train2 = train.copy()\n",
    "test2  = test.copy()"
   ]
  },
  {
   "cell_type": "code",
   "execution_count": 25,
   "metadata": {},
   "outputs": [],
   "source": [
    "#DROP IRRELEVENT COLUMNS \n",
    "train2.drop(columns = ['Colour', 'VehicleID'], inplace = True)\n",
    "test2.drop(columns = 'Colour' , inplace = True)\n",
    "\n",
    "#FIX TRAINING DATASET VALUES \n",
    "train2.sort_values(by = ['Location', 'Maker', 'Model', 'Year', 'Type' ], inplace = True)\n",
    "train2.reset_index(drop =True , inplace = True)\n",
    "\n",
    "# fill Null values With preceedig values values \n",
    "train2.fillna(method = 'pad', inplace = True)\n",
    "train2.fillna(method = 'bfill', inplace =  True)"
   ]
  },
  {
   "cell_type": "code",
   "execution_count": 26,
   "metadata": {},
   "outputs": [
    {
     "name": "stderr",
     "output_type": "stream",
     "text": [
      "C:\\Users\\Owner\\AppData\\Local\\Temp/ipykernel_10732/3696937306.py:1: SettingWithCopyWarning: \n",
      "A value is trying to be set on a copy of a slice from a DataFrame\n",
      "\n",
      "See the caveats in the documentation: https://pandas.pydata.org/pandas-docs/stable/user_guide/indexing.html#returning-a-view-versus-a-copy\n",
      "  test2.Year[test2.Year.isna()] = int(test2.Year[test2.Year.notna()].astype(int).mean())\n"
     ]
    }
   ],
   "source": [
    "test2.Year[test2.Year.isna()] = int(test2.Year[test2.Year.notna()].astype(int).mean())\n",
    "\n",
    "#Convert the Year column to strings\n",
    "test2.Year = test2.Year.astype(int)\n",
    "\n",
    "\n",
    "# FIX TESTING DATASET\n",
    "test2.sort_values(by = ['Location', 'Maker', 'Model', 'Year', 'Type' ], inplace = True)\n",
    "test2.reset_index(drop =True , inplace = True)\n",
    "\n",
    "# fill Null values With preceedig values values \n",
    "test2.fillna(method = 'pad', inplace = True)\n",
    "test2.fillna(method = 'bfill', inplace =  True)\n"
   ]
  },
  {
   "cell_type": "code",
   "execution_count": 27,
   "metadata": {},
   "outputs": [],
   "source": [
    "# IMPLEMENT \n",
    "x = pd.get_dummies(train2.drop(columns =['Amount', \"Model\"]))\n",
    "y = train2.Amount\n",
    "\n",
    "\n",
    "Vehicle = test2.VehicleID\n",
    "x_test = pd.get_dummies(test2.drop(columns = ['VehicleID', 'Model']))\n",
    "\n",
    "for col in x.columns:\n",
    "    if col not in x_test.columns:\n",
    "        x_test[col] = 0\n",
    "        \n",
    "for col in x_test.columns:\n",
    "    if col not in x.columns:\n",
    "        x[col] = 0\n",
    "\n",
    "#EVAL DISTANCE USING RANDOM FOR ATTAINING MISSING DISTANCE\n",
    "from sklearn.ensemble import AdaBoostRegressor\n",
    "model = AdaBoostRegressor()\n",
    "\n",
    "#Train Model\n",
    "model.fit(x, y)\n",
    "\n",
    "# Make PREDICTIONS \n",
    "prices = model.predict(x_test)\n",
    "\n",
    "#SAEV AS FILE\n",
    "pd.DataFrame({'VehicleID' : Vehicle , 'Amount (Million Naira)' : prices}).to_csv('Submission_ffill.csv', index =- False)"
   ]
  },
  {
   "cell_type": "markdown",
   "metadata": {},
   "source": [
    "# OPTION 3\n",
    "- Drop Distance Columns in both "
   ]
  },
  {
   "cell_type": "code",
   "execution_count": 28,
   "metadata": {},
   "outputs": [
    {
     "name": "stderr",
     "output_type": "stream",
     "text": [
      "C:\\Users\\Owner\\AppData\\Local\\Temp/ipykernel_10732/671901937.py:11: PerformanceWarning: DataFrame is highly fragmented.  This is usually the result of calling `frame.insert` many times, which has poor performance.  Consider joining all columns at once using pd.concat(axis=1) instead.  To get a de-fragmented frame, use `newframe = frame.copy()`\n",
      "  x_test[col] = 0\n",
      "C:\\Users\\Owner\\AppData\\Local\\Temp/ipykernel_10732/671901937.py:15: PerformanceWarning: DataFrame is highly fragmented.  This is usually the result of calling `frame.insert` many times, which has poor performance.  Consider joining all columns at once using pd.concat(axis=1) instead.  To get a de-fragmented frame, use `newframe = frame.copy()`\n",
      "  x[col] = 0\n"
     ]
    }
   ],
   "source": [
    "# IMPLEMENT \n",
    "x = pd.get_dummies(train1.drop(columns =['Amount', 'Distance']))\n",
    "y = train1.Amount\n",
    "\n",
    "\n",
    "Vehicle = test1.VehicleID\n",
    "x_test = pd.get_dummies(test1.drop(columns = ['VehicleID', 'Colour', 'Distance']))\n",
    "\n",
    "for col in x.columns:\n",
    "    if col not in x_test.columns:\n",
    "        x_test[col] = 0\n",
    "        \n",
    "for col in x_test.columns:\n",
    "    if col not in x.columns:\n",
    "        x[col] = 0\n",
    "\n",
    "#EVAL DISTANCE USING RANDOM FOR ATTAINING MISSING DISTANCE\n",
    "from sklearn.ensemble import AdaBoostRegressor\n",
    "model = AdaBoostRegressor()\n",
    "\n",
    "#Train Model\n",
    "model.fit(x, y)\n",
    "\n",
    "# Make PREDICTIONS \n",
    "prices = model.predict(x_test)\n",
    "\n",
    "#SAEV AS FILE\n",
    "pd.DataFrame({'VehicleID' : Vehicle , 'Amount (Million Naira)' : prices}).to_csv('Submissiondrop Distance.csv', index =- False)"
   ]
  },
  {
   "cell_type": "markdown",
   "metadata": {},
   "source": []
  },
  {
   "cell_type": "markdown",
   "metadata": {},
   "source": [
    "# OPTION 4\n",
    "-  CHRISTAINS COPY"
   ]
  },
  {
   "cell_type": "code",
   "execution_count": 475,
   "metadata": {},
   "outputs": [
    {
     "data": {
      "text/html": [
       "<div>\n",
       "<style scoped>\n",
       "    .dataframe tbody tr th:only-of-type {\n",
       "        vertical-align: middle;\n",
       "    }\n",
       "\n",
       "    .dataframe tbody tr th {\n",
       "        vertical-align: top;\n",
       "    }\n",
       "\n",
       "    .dataframe thead th {\n",
       "        text-align: right;\n",
       "    }\n",
       "</style>\n",
       "<table border=\"1\" class=\"dataframe\">\n",
       "  <thead>\n",
       "    <tr style=\"text-align: right;\">\n",
       "      <th></th>\n",
       "      <th>VehicleID</th>\n",
       "      <th>Location</th>\n",
       "      <th>Maker</th>\n",
       "      <th>Model</th>\n",
       "      <th>Year</th>\n",
       "      <th>Colour</th>\n",
       "      <th>Amount</th>\n",
       "      <th>Type</th>\n",
       "      <th>Distance</th>\n",
       "    </tr>\n",
       "  </thead>\n",
       "  <tbody>\n",
       "    <tr>\n",
       "      <th>0</th>\n",
       "      <td>VHL12546</td>\n",
       "      <td>Abuja</td>\n",
       "      <td>Honda</td>\n",
       "      <td>Accord Coupe EX V-6</td>\n",
       "      <td>2011.0</td>\n",
       "      <td>Silver</td>\n",
       "      <td>2.2</td>\n",
       "      <td>Nigerian Used</td>\n",
       "      <td>NaN</td>\n",
       "    </tr>\n",
       "    <tr>\n",
       "      <th>1</th>\n",
       "      <td>VHL18827</td>\n",
       "      <td>Ibadan</td>\n",
       "      <td>Hyundai</td>\n",
       "      <td>Sonata</td>\n",
       "      <td>2012.0</td>\n",
       "      <td>Silver</td>\n",
       "      <td>3.5</td>\n",
       "      <td>Nigerian Used</td>\n",
       "      <td>125000.0</td>\n",
       "    </tr>\n",
       "    <tr>\n",
       "      <th>2</th>\n",
       "      <td>VHL19499</td>\n",
       "      <td>Lagos</td>\n",
       "      <td>Lexus</td>\n",
       "      <td>RX 350</td>\n",
       "      <td>2010.0</td>\n",
       "      <td>Red</td>\n",
       "      <td>9.2</td>\n",
       "      <td>Foreign Used</td>\n",
       "      <td>110852.0</td>\n",
       "    </tr>\n",
       "    <tr>\n",
       "      <th>3</th>\n",
       "      <td>VHL17991</td>\n",
       "      <td>Abuja</td>\n",
       "      <td>Mercedes-Benz</td>\n",
       "      <td>GLE-Class</td>\n",
       "      <td>2017.0</td>\n",
       "      <td>Blue</td>\n",
       "      <td>22.8</td>\n",
       "      <td>Foreign Used</td>\n",
       "      <td>30000.0</td>\n",
       "    </tr>\n",
       "    <tr>\n",
       "      <th>4</th>\n",
       "      <td>VHL12170</td>\n",
       "      <td>Ibadan</td>\n",
       "      <td>Toyota</td>\n",
       "      <td>Highlander</td>\n",
       "      <td>2002.0</td>\n",
       "      <td>Red</td>\n",
       "      <td>2.6</td>\n",
       "      <td>Nigerian Used</td>\n",
       "      <td>125206.0</td>\n",
       "    </tr>\n",
       "  </tbody>\n",
       "</table>\n",
       "</div>"
      ],
      "text/plain": [
       "  VehicleID Location          Maker                Model    Year  Colour  \\\n",
       "0  VHL12546    Abuja          Honda  Accord Coupe EX V-6  2011.0  Silver   \n",
       "1  VHL18827   Ibadan        Hyundai               Sonata  2012.0  Silver   \n",
       "2  VHL19499    Lagos          Lexus               RX 350  2010.0     Red   \n",
       "3  VHL17991    Abuja  Mercedes-Benz            GLE-Class  2017.0    Blue   \n",
       "4  VHL12170   Ibadan         Toyota           Highlander  2002.0     Red   \n",
       "\n",
       "   Amount           Type  Distance  \n",
       "0     2.2  Nigerian Used       NaN  \n",
       "1     3.5  Nigerian Used  125000.0  \n",
       "2     9.2   Foreign Used  110852.0  \n",
       "3    22.8   Foreign Used   30000.0  \n",
       "4     2.6  Nigerian Used  125206.0  "
      ]
     },
     "execution_count": 475,
     "metadata": {},
     "output_type": "execute_result"
    }
   ],
   "source": [
    "train4 = train.copy()\n",
    "test4  = test.copy() \n",
    "train4.head()"
   ]
  },
  {
   "cell_type": "code",
   "execution_count": 476,
   "metadata": {},
   "outputs": [],
   "source": [
    "# NB - Year had alreay been filled with random years in the 5th to 95th percentile of the distribution\n",
    "\n",
    "# next is to convert the year column to data, in my opiniion, this dosent look very important\n",
    "#train4 = train4['Year'] = pd.to_datetime(train4['Year'])\n",
    "#train4['Year'] = pd.DatetimeIndex(train4['Year']).year"
   ]
  },
  {
   "cell_type": "code",
   "execution_count": 477,
   "metadata": {},
   "outputs": [],
   "source": [
    "train4['Year'] =  train4['Year'].astype(int)\n",
    "\n",
    "def fillamt(input_df, col = 'Amount' , choice='mean' ):\n",
    "    # your code here\n",
    "    output_df = input_df\n",
    "    \n",
    "    meaner   = output_df.groupby(['Model','Year'])[col].mean()\n",
    "    medianer = output_df.groupby(['Model','Year'])[col].median()\n",
    "    \n",
    "    def fill_missing_mean(row):\n",
    "        if pd.isnull(row[col]):\n",
    "            return meaner[row['Model'],row['Year']]\n",
    "        else:\n",
    "            return row[col]\n",
    "        \n",
    "    def fill_missing_median(row):\n",
    "        if pd.isnull(row[col]):\n",
    "            return medianer[row['Model'],row['Year']]\n",
    "        else:\n",
    "            return row[col]\n",
    "    \n",
    "    if choice == 'mean':\n",
    "        output_df[col] = output_df.apply(fill_missing_mean, axis=1)\n",
    "        \n",
    "    elif choice == 'median':\n",
    "        output_df[col] = output_df.apply(fill_missing_median, axis=1)\n",
    "        \n",
    "    return output_df\n",
    "\n",
    "\n",
    "def filldist(input_df, col = 'Distance' , choice='mean' ):\n",
    "    # your code here\n",
    "    output_df = input_df\n",
    "    \n",
    "    meaner   = output_df.groupby(['Year','Type'])[col].mean()\n",
    "    medianer = output_df.groupby(['Year','Type'])[col].median()\n",
    "    \n",
    "    def fill_missing_mean(row):\n",
    "        if pd.isnull(row[col]):\n",
    "            return meaner[row['Year'],row['Type']]\n",
    "        else:\n",
    "            return row[col]\n",
    "        \n",
    "    def fill_missing_median(row):\n",
    "        if pd.isnull(row[col]):\n",
    "            return medianer[row['Year'],row['Type']]\n",
    "        else:\n",
    "            return row[col]\n",
    "    \n",
    "    if choice == 'mean':\n",
    "        output_df[col] = output_df.apply(fill_missing_mean, axis=1)\n",
    "        \n",
    "    elif choice == 'median':\n",
    "        output_df[col] = output_df.apply(fill_missing_median, axis=1)\n",
    "        \n",
    "    return output_df"
   ]
  },
  {
   "cell_type": "code",
   "execution_count": 478,
   "metadata": {},
   "outputs": [
    {
     "name": "stderr",
     "output_type": "stream",
     "text": [
      "C:\\Users\\Owner\\AppData\\Local\\Temp/ipykernel_10732/293284537.py:5: SettingWithCopyWarning: \n",
      "A value is trying to be set on a copy of a slice from a DataFrame\n",
      "\n",
      "See the caveats in the documentation: https://pandas.pydata.org/pandas-docs/stable/user_guide/indexing.html#returning-a-view-versus-a-copy\n",
      "  train4.Type[train4.Type.isna()] = train4[train4.Type.isna()].apply(defineType, axis =1)\n"
     ]
    }
   ],
   "source": [
    "#fil the Amount Column\n",
    "train4 = fillamt(train4, 'Amount', choice='median')\n",
    "\n",
    "# Fill Type column\n",
    "train4.Type[train4.Type.isna()] = train4[train4.Type.isna()].apply(defineType, axis =1)\n",
    "\n",
    "#fill Distance column\n",
    "train4 = filldist(train4, 'Distance', choice='median')"
   ]
  },
  {
   "cell_type": "code",
   "execution_count": 479,
   "metadata": {},
   "outputs": [
    {
     "data": {
      "text/plain": [
       "VehicleID    0\n",
       "Location     0\n",
       "Maker        0\n",
       "Model        0\n",
       "Year         0\n",
       "Colour       0\n",
       "Amount       5\n",
       "Type         0\n",
       "Distance     3\n",
       "dtype: int64"
      ]
     },
     "execution_count": 479,
     "metadata": {},
     "output_type": "execute_result"
    }
   ],
   "source": [
    "train4.isna().sum()"
   ]
  },
  {
   "cell_type": "code",
   "execution_count": 480,
   "metadata": {},
   "outputs": [],
   "source": [
    "#fill up the remainder with the mean\n",
    "train4['Amount']   = train4['Amount'].fillna((train4['Amount'].mean()))\n",
    "train4['Distance'] = train4['Distance'].fillna((train4['Distance'].mean()))"
   ]
  },
  {
   "cell_type": "code",
   "execution_count": 481,
   "metadata": {},
   "outputs": [
    {
     "name": "stdout",
     "output_type": "stream",
     "text": [
      "CORRELATION BTW Amount and  Location\n",
      "Amount      1.000000\n",
      "Location   -0.078426\n",
      "Name: Amount, dtype: float64\n",
      "\n",
      "CORRELATION BTW Amount and  Maker\n",
      "Amount    1.000000\n",
      "Maker    -0.047972\n",
      "Name: Amount, dtype: float64\n",
      "\n",
      "CORRELATION BTW Amount and  Model\n",
      "Amount    1.000000\n",
      "Model     0.085034\n",
      "Name: Amount, dtype: float64\n",
      "\n",
      "CORRELATION BTW Amount and  Type\n",
      "Amount    1.00000\n",
      "Type     -0.32822\n",
      "Name: Amount, dtype: float64\n",
      "\n"
     ]
    },
    {
     "data": {
      "text/plain": [
       "Type       -0.328220\n",
       "Distance   -0.208339\n",
       "Location   -0.078426\n",
       "Maker      -0.047972\n",
       "Model       0.085034\n",
       "Year        0.452134\n",
       "Amount      1.000000\n",
       "Name: Amount, dtype: float64"
      ]
     },
     "execution_count": 481,
     "metadata": {},
     "output_type": "execute_result"
    }
   ],
   "source": [
    "#Drop VECHIILEID column\n",
    "\n",
    "traindemo = train4.drop(columns=['VehicleID','Colour'])\n",
    "\n",
    "for col in traindemo.columns:\n",
    "    if traindemo[col].dtype == 'object':\n",
    "        traindemo[col] = traindemo[col].astype('category').cat.codes \n",
    "        print('CORRELATION BTW Amount and ', col)\n",
    "        print(traindemo[['Amount', col]].corr().Amount)\n",
    "        print()\n",
    "\n",
    "#import seaborn as sns\n",
    "#sns.heatmap(traindemo.corr())\n",
    "\n",
    "traindemo.corr().Amount.sort_values()"
   ]
  },
  {
   "cell_type": "code",
   "execution_count": 482,
   "metadata": {},
   "outputs": [
    {
     "data": {
      "text/html": [
       "<div>\n",
       "<style scoped>\n",
       "    .dataframe tbody tr th:only-of-type {\n",
       "        vertical-align: middle;\n",
       "    }\n",
       "\n",
       "    .dataframe tbody tr th {\n",
       "        vertical-align: top;\n",
       "    }\n",
       "\n",
       "    .dataframe thead th {\n",
       "        text-align: right;\n",
       "    }\n",
       "</style>\n",
       "<table border=\"1\" class=\"dataframe\">\n",
       "  <thead>\n",
       "    <tr style=\"text-align: right;\">\n",
       "      <th></th>\n",
       "      <th>Location</th>\n",
       "      <th>Maker</th>\n",
       "      <th>Model</th>\n",
       "      <th>Year</th>\n",
       "      <th>Amount</th>\n",
       "      <th>Distance</th>\n",
       "      <th>Type_Brand New</th>\n",
       "      <th>Type_Foreign Used</th>\n",
       "      <th>Type_Nigerian Used</th>\n",
       "    </tr>\n",
       "  </thead>\n",
       "  <tbody>\n",
       "    <tr>\n",
       "      <th>0</th>\n",
       "      <td>0</td>\n",
       "      <td>17</td>\n",
       "      <td>117</td>\n",
       "      <td>2011</td>\n",
       "      <td>2.2</td>\n",
       "      <td>92828.0</td>\n",
       "      <td>0</td>\n",
       "      <td>0</td>\n",
       "      <td>1</td>\n",
       "    </tr>\n",
       "    <tr>\n",
       "      <th>1</th>\n",
       "      <td>1</td>\n",
       "      <td>19</td>\n",
       "      <td>1049</td>\n",
       "      <td>2012</td>\n",
       "      <td>3.5</td>\n",
       "      <td>125000.0</td>\n",
       "      <td>0</td>\n",
       "      <td>0</td>\n",
       "      <td>1</td>\n",
       "    </tr>\n",
       "    <tr>\n",
       "      <th>2</th>\n",
       "      <td>2</td>\n",
       "      <td>29</td>\n",
       "      <td>908</td>\n",
       "      <td>2010</td>\n",
       "      <td>9.2</td>\n",
       "      <td>110852.0</td>\n",
       "      <td>0</td>\n",
       "      <td>1</td>\n",
       "      <td>0</td>\n",
       "    </tr>\n",
       "    <tr>\n",
       "      <th>3</th>\n",
       "      <td>0</td>\n",
       "      <td>34</td>\n",
       "      <td>508</td>\n",
       "      <td>2017</td>\n",
       "      <td>22.8</td>\n",
       "      <td>30000.0</td>\n",
       "      <td>0</td>\n",
       "      <td>1</td>\n",
       "      <td>0</td>\n",
       "    </tr>\n",
       "    <tr>\n",
       "      <th>4</th>\n",
       "      <td>1</td>\n",
       "      <td>52</td>\n",
       "      <td>569</td>\n",
       "      <td>2002</td>\n",
       "      <td>2.6</td>\n",
       "      <td>125206.0</td>\n",
       "      <td>0</td>\n",
       "      <td>0</td>\n",
       "      <td>1</td>\n",
       "    </tr>\n",
       "  </tbody>\n",
       "</table>\n",
       "</div>"
      ],
      "text/plain": [
       "   Location  Maker  Model  Year  Amount  Distance  Type_Brand New  \\\n",
       "0         0     17    117  2011     2.2   92828.0               0   \n",
       "1         1     19   1049  2012     3.5  125000.0               0   \n",
       "2         2     29    908  2010     9.2  110852.0               0   \n",
       "3         0     34    508  2017    22.8   30000.0               0   \n",
       "4         1     52    569  2002     2.6  125206.0               0   \n",
       "\n",
       "   Type_Foreign Used  Type_Nigerian Used  \n",
       "0                  0                   1  \n",
       "1                  0                   1  \n",
       "2                  1                   0  \n",
       "3                  1                   0  \n",
       "4                  0                   1  "
      ]
     },
     "execution_count": 482,
     "metadata": {},
     "output_type": "execute_result"
    }
   ],
   "source": [
    "traindemo.Type  = train4.Type\n",
    "\n",
    "#Absorb the coding convenctions \n",
    "maker     = pd.concat([train4.Maker, traindemo.Maker],       axis=1,  keys=['A', 'B']).drop_duplicates().reset_index(drop= True)\n",
    "model     = pd.concat([train4.Model, traindemo.Model],       axis=1,  keys=['A', 'B']).drop_duplicates().reset_index(drop= True)\n",
    "location  = pd.concat([train4.Location, traindemo.Location], axis=1,  keys=['A', 'B']).drop_duplicates().reset_index(drop= True)\n",
    "\n",
    "#Convert to machine readable \n",
    "traindemo = pd.get_dummies(traindemo)\n",
    "traindemo.head()"
   ]
  },
  {
   "cell_type": "markdown",
   "metadata": {},
   "source": [
    "### CLEANING AND PREPARING TEST DATA "
   ]
  },
  {
   "cell_type": "code",
   "execution_count": 483,
   "metadata": {},
   "outputs": [],
   "source": [
    "def cleanDates(var) :\n",
    "    var = str(var).replace(',','')\n",
    "    return var\n",
    "\n",
    "test4.Year = test4.Year.apply(cleanDates)\n",
    "\n",
    "#CONVERT TO APPRORIATE DATA TYPES \n",
    "test4[['Distance', \"Year\"]] = test4[['Distance', \"Year\"]].astype(float)"
   ]
  },
  {
   "cell_type": "code",
   "execution_count": 484,
   "metadata": {},
   "outputs": [
    {
     "data": {
      "text/plain": [
       "VehicleID      0\n",
       "Location       0\n",
       "Maker          0\n",
       "Model          0\n",
       "Year           2\n",
       "Colour         0\n",
       "Type          54\n",
       "Distance     676\n",
       "dtype: int64"
      ]
     },
     "execution_count": 484,
     "metadata": {},
     "output_type": "execute_result"
    }
   ],
   "source": [
    "test4.isna().sum()"
   ]
  },
  {
   "cell_type": "code",
   "execution_count": 485,
   "metadata": {},
   "outputs": [],
   "source": [
    "#fill Missing YEAR\n",
    "test4.Year.fillna(int(test4.Year.mean()), inplace =  True)"
   ]
  },
  {
   "cell_type": "code",
   "execution_count": 486,
   "metadata": {},
   "outputs": [
    {
     "data": {
      "text/plain": [
       "VehicleID      0\n",
       "Location       0\n",
       "Maker          0\n",
       "Model          0\n",
       "Year           0\n",
       "Colour         0\n",
       "Type          54\n",
       "Distance     676\n",
       "dtype: int64"
      ]
     },
     "execution_count": 486,
     "metadata": {},
     "output_type": "execute_result"
    }
   ],
   "source": [
    "test4.isna().sum()"
   ]
  },
  {
   "cell_type": "code",
   "execution_count": 487,
   "metadata": {},
   "outputs": [
    {
     "name": "stderr",
     "output_type": "stream",
     "text": [
      "C:\\Users\\Owner\\AppData\\Local\\Temp/ipykernel_10732/3482021420.py:2: SettingWithCopyWarning: \n",
      "A value is trying to be set on a copy of a slice from a DataFrame\n",
      "\n",
      "See the caveats in the documentation: https://pandas.pydata.org/pandas-docs/stable/user_guide/indexing.html#returning-a-view-versus-a-copy\n",
      "  test4.Type[test4.Type.isna()] = test4[test4.Type.isna()].apply(defineType, axis =1)\n"
     ]
    }
   ],
   "source": [
    "# Fill Type column\n",
    "test4.Type[test4.Type.isna()] = test4[test4.Type.isna()].apply(defineType, axis =1)"
   ]
  },
  {
   "cell_type": "code",
   "execution_count": 488,
   "metadata": {},
   "outputs": [],
   "source": [
    "test4 = filldist(test4, 'Distance', choice='median')\n",
    "\n",
    "#test4['Distance'] = test4['Distance'].fillna((test4['Distance'].mean()))"
   ]
  },
  {
   "cell_type": "markdown",
   "metadata": {},
   "source": [
    "#### FEATURE ENGR  OF TEST DATA "
   ]
  },
  {
   "cell_type": "code",
   "execution_count": 489,
   "metadata": {},
   "outputs": [],
   "source": [
    "location_dict = {}\n",
    "for i in range(len(location)):\n",
    "    location_dict[location.A.iloc[i]] = location.B.iloc[i]\n",
    "\n",
    "model_dict = {}\n",
    "for i in range(len(model)):\n",
    "    model_dict[model.A.iloc[i]] = model.B.iloc[i]\n",
    "\n",
    "maker_dict = {}\n",
    "for i in range(len(maker)):\n",
    "    maker_dict[maker.A.iloc[i]] = maker.B.iloc[i]\n"
   ]
  },
  {
   "cell_type": "code",
   "execution_count": 490,
   "metadata": {},
   "outputs": [],
   "source": [
    "# Map element encoding \n",
    "test4['Location'] = test4['Location'].map(location_dict)\n",
    "test4['Maker']    = test4['Maker'].map(maker_dict)\n",
    " "
   ]
  },
  {
   "cell_type": "code",
   "execution_count": 491,
   "metadata": {},
   "outputs": [],
   "source": [
    "vechile = test4['VehicleID']\n",
    "test4.drop(columns=['VehicleID','Colour','Model'], inplace= True)"
   ]
  },
  {
   "cell_type": "code",
   "execution_count": 492,
   "metadata": {},
   "outputs": [
    {
     "name": "stdout",
     "output_type": "stream",
     "text": [
      "<class 'pandas.core.frame.DataFrame'>\n",
      "RangeIndex: 7205 entries, 0 to 7204\n",
      "Data columns (total 9 columns):\n",
      " #   Column              Non-Null Count  Dtype  \n",
      "---  ------              --------------  -----  \n",
      " 0   Location            7205 non-null   int8   \n",
      " 1   Maker               7205 non-null   int8   \n",
      " 2   Model               7205 non-null   int16  \n",
      " 3   Year                7205 non-null   int32  \n",
      " 4   Amount              7205 non-null   float64\n",
      " 5   Distance            7205 non-null   float64\n",
      " 6   Type_Brand New      7205 non-null   uint8  \n",
      " 7   Type_Foreign Used   7205 non-null   uint8  \n",
      " 8   Type_Nigerian Used  7205 non-null   uint8  \n",
      "dtypes: float64(2), int16(1), int32(1), int8(2), uint8(3)\n",
      "memory usage: 190.1 KB\n",
      "None\n",
      "<class 'pandas.core.frame.DataFrame'>\n",
      "RangeIndex: 2061 entries, 0 to 2060\n",
      "Data columns (total 5 columns):\n",
      " #   Column    Non-Null Count  Dtype  \n",
      "---  ------    --------------  -----  \n",
      " 0   Location  2061 non-null   int8   \n",
      " 1   Maker     2060 non-null   float64\n",
      " 2   Year      2061 non-null   float64\n",
      " 3   Type      2061 non-null   object \n",
      " 4   Distance  2059 non-null   float64\n",
      "dtypes: float64(3), int8(1), object(1)\n",
      "memory usage: 66.5+ KB\n"
     ]
    }
   ],
   "source": [
    "print(traindemo.info())\n",
    "test4.info()"
   ]
  },
  {
   "cell_type": "code",
   "execution_count": 493,
   "metadata": {},
   "outputs": [
    {
     "ename": "TypeError",
     "evalue": "float() argument must be a string or a number, not 'method'",
     "output_type": "error",
     "traceback": [
      "\u001b[1;31m---------------------------------------------------------------------------\u001b[0m",
      "\u001b[1;31mTypeError\u001b[0m                                 Traceback (most recent call last)",
      "\u001b[1;32m~\\AppData\\Local\\Temp/ipykernel_10732/1809604779.py\u001b[0m in \u001b[0;36m<module>\u001b[1;34m\u001b[0m\n\u001b[0;32m      3\u001b[0m \u001b[1;31m# Convert to apporraite datatypes\u001b[0m\u001b[1;33m\u001b[0m\u001b[1;33m\u001b[0m\u001b[0m\n\u001b[0;32m      4\u001b[0m \u001b[0mtest4\u001b[0m\u001b[1;33m[\u001b[0m\u001b[1;33m[\u001b[0m\u001b[1;34m'Year'\u001b[0m\u001b[1;33m,\u001b[0m \u001b[1;34m'Maker'\u001b[0m\u001b[1;33m]\u001b[0m\u001b[1;33m]\u001b[0m  \u001b[1;33m=\u001b[0m \u001b[0mtest4\u001b[0m\u001b[1;33m[\u001b[0m\u001b[1;33m[\u001b[0m\u001b[1;34m'Year'\u001b[0m\u001b[1;33m,\u001b[0m \u001b[1;34m'Maker'\u001b[0m\u001b[1;33m]\u001b[0m\u001b[1;33m]\u001b[0m\u001b[1;33m.\u001b[0m\u001b[0mastype\u001b[0m\u001b[1;33m(\u001b[0m\u001b[0mint\u001b[0m\u001b[1;33m)\u001b[0m\u001b[1;33m\u001b[0m\u001b[1;33m\u001b[0m\u001b[0m\n\u001b[1;32m----> 5\u001b[1;33m \u001b[0mtest4\u001b[0m\u001b[1;33m[\u001b[0m\u001b[1;34m'Distance'\u001b[0m\u001b[1;33m]\u001b[0m  \u001b[1;33m=\u001b[0m \u001b[0mtest4\u001b[0m\u001b[1;33m[\u001b[0m\u001b[1;34m'Distance'\u001b[0m\u001b[1;33m]\u001b[0m\u001b[1;33m.\u001b[0m\u001b[0mastype\u001b[0m\u001b[1;33m(\u001b[0m\u001b[0mfloat\u001b[0m\u001b[1;33m)\u001b[0m\u001b[1;33m\u001b[0m\u001b[1;33m\u001b[0m\u001b[0m\n\u001b[0m",
      "\u001b[1;32mc:\\Users\\Owner\\anaconda3\\lib\\site-packages\\pandas\\core\\generic.py\u001b[0m in \u001b[0;36mastype\u001b[1;34m(self, dtype, copy, errors)\u001b[0m\n\u001b[0;32m   5813\u001b[0m         \u001b[1;32melse\u001b[0m\u001b[1;33m:\u001b[0m\u001b[1;33m\u001b[0m\u001b[1;33m\u001b[0m\u001b[0m\n\u001b[0;32m   5814\u001b[0m             \u001b[1;31m# else, only a single dtype is given\u001b[0m\u001b[1;33m\u001b[0m\u001b[1;33m\u001b[0m\u001b[0m\n\u001b[1;32m-> 5815\u001b[1;33m             \u001b[0mnew_data\u001b[0m \u001b[1;33m=\u001b[0m \u001b[0mself\u001b[0m\u001b[1;33m.\u001b[0m\u001b[0m_mgr\u001b[0m\u001b[1;33m.\u001b[0m\u001b[0mastype\u001b[0m\u001b[1;33m(\u001b[0m\u001b[0mdtype\u001b[0m\u001b[1;33m=\u001b[0m\u001b[0mdtype\u001b[0m\u001b[1;33m,\u001b[0m \u001b[0mcopy\u001b[0m\u001b[1;33m=\u001b[0m\u001b[0mcopy\u001b[0m\u001b[1;33m,\u001b[0m \u001b[0merrors\u001b[0m\u001b[1;33m=\u001b[0m\u001b[0merrors\u001b[0m\u001b[1;33m)\u001b[0m\u001b[1;33m\u001b[0m\u001b[1;33m\u001b[0m\u001b[0m\n\u001b[0m\u001b[0;32m   5816\u001b[0m             \u001b[1;32mreturn\u001b[0m \u001b[0mself\u001b[0m\u001b[1;33m.\u001b[0m\u001b[0m_constructor\u001b[0m\u001b[1;33m(\u001b[0m\u001b[0mnew_data\u001b[0m\u001b[1;33m)\u001b[0m\u001b[1;33m.\u001b[0m\u001b[0m__finalize__\u001b[0m\u001b[1;33m(\u001b[0m\u001b[0mself\u001b[0m\u001b[1;33m,\u001b[0m \u001b[0mmethod\u001b[0m\u001b[1;33m=\u001b[0m\u001b[1;34m\"astype\"\u001b[0m\u001b[1;33m)\u001b[0m\u001b[1;33m\u001b[0m\u001b[1;33m\u001b[0m\u001b[0m\n\u001b[0;32m   5817\u001b[0m \u001b[1;33m\u001b[0m\u001b[0m\n",
      "\u001b[1;32mc:\\Users\\Owner\\anaconda3\\lib\\site-packages\\pandas\\core\\internals\\managers.py\u001b[0m in \u001b[0;36mastype\u001b[1;34m(self, dtype, copy, errors)\u001b[0m\n\u001b[0;32m    416\u001b[0m \u001b[1;33m\u001b[0m\u001b[0m\n\u001b[0;32m    417\u001b[0m     \u001b[1;32mdef\u001b[0m \u001b[0mastype\u001b[0m\u001b[1;33m(\u001b[0m\u001b[0mself\u001b[0m\u001b[1;33m:\u001b[0m \u001b[0mT\u001b[0m\u001b[1;33m,\u001b[0m \u001b[0mdtype\u001b[0m\u001b[1;33m,\u001b[0m \u001b[0mcopy\u001b[0m\u001b[1;33m:\u001b[0m \u001b[0mbool\u001b[0m \u001b[1;33m=\u001b[0m \u001b[1;32mFalse\u001b[0m\u001b[1;33m,\u001b[0m \u001b[0merrors\u001b[0m\u001b[1;33m:\u001b[0m \u001b[0mstr\u001b[0m \u001b[1;33m=\u001b[0m \u001b[1;34m\"raise\"\u001b[0m\u001b[1;33m)\u001b[0m \u001b[1;33m->\u001b[0m \u001b[0mT\u001b[0m\u001b[1;33m:\u001b[0m\u001b[1;33m\u001b[0m\u001b[1;33m\u001b[0m\u001b[0m\n\u001b[1;32m--> 418\u001b[1;33m         \u001b[1;32mreturn\u001b[0m \u001b[0mself\u001b[0m\u001b[1;33m.\u001b[0m\u001b[0mapply\u001b[0m\u001b[1;33m(\u001b[0m\u001b[1;34m\"astype\"\u001b[0m\u001b[1;33m,\u001b[0m \u001b[0mdtype\u001b[0m\u001b[1;33m=\u001b[0m\u001b[0mdtype\u001b[0m\u001b[1;33m,\u001b[0m \u001b[0mcopy\u001b[0m\u001b[1;33m=\u001b[0m\u001b[0mcopy\u001b[0m\u001b[1;33m,\u001b[0m \u001b[0merrors\u001b[0m\u001b[1;33m=\u001b[0m\u001b[0merrors\u001b[0m\u001b[1;33m)\u001b[0m\u001b[1;33m\u001b[0m\u001b[1;33m\u001b[0m\u001b[0m\n\u001b[0m\u001b[0;32m    419\u001b[0m \u001b[1;33m\u001b[0m\u001b[0m\n\u001b[0;32m    420\u001b[0m     def convert(\n",
      "\u001b[1;32mc:\\Users\\Owner\\anaconda3\\lib\\site-packages\\pandas\\core\\internals\\managers.py\u001b[0m in \u001b[0;36mapply\u001b[1;34m(self, f, align_keys, ignore_failures, **kwargs)\u001b[0m\n\u001b[0;32m    325\u001b[0m                     \u001b[0mapplied\u001b[0m \u001b[1;33m=\u001b[0m \u001b[0mb\u001b[0m\u001b[1;33m.\u001b[0m\u001b[0mapply\u001b[0m\u001b[1;33m(\u001b[0m\u001b[0mf\u001b[0m\u001b[1;33m,\u001b[0m \u001b[1;33m**\u001b[0m\u001b[0mkwargs\u001b[0m\u001b[1;33m)\u001b[0m\u001b[1;33m\u001b[0m\u001b[1;33m\u001b[0m\u001b[0m\n\u001b[0;32m    326\u001b[0m                 \u001b[1;32melse\u001b[0m\u001b[1;33m:\u001b[0m\u001b[1;33m\u001b[0m\u001b[1;33m\u001b[0m\u001b[0m\n\u001b[1;32m--> 327\u001b[1;33m                     \u001b[0mapplied\u001b[0m \u001b[1;33m=\u001b[0m \u001b[0mgetattr\u001b[0m\u001b[1;33m(\u001b[0m\u001b[0mb\u001b[0m\u001b[1;33m,\u001b[0m \u001b[0mf\u001b[0m\u001b[1;33m)\u001b[0m\u001b[1;33m(\u001b[0m\u001b[1;33m**\u001b[0m\u001b[0mkwargs\u001b[0m\u001b[1;33m)\u001b[0m\u001b[1;33m\u001b[0m\u001b[1;33m\u001b[0m\u001b[0m\n\u001b[0m\u001b[0;32m    328\u001b[0m             \u001b[1;32mexcept\u001b[0m \u001b[1;33m(\u001b[0m\u001b[0mTypeError\u001b[0m\u001b[1;33m,\u001b[0m \u001b[0mNotImplementedError\u001b[0m\u001b[1;33m)\u001b[0m\u001b[1;33m:\u001b[0m\u001b[1;33m\u001b[0m\u001b[1;33m\u001b[0m\u001b[0m\n\u001b[0;32m    329\u001b[0m                 \u001b[1;32mif\u001b[0m \u001b[1;32mnot\u001b[0m \u001b[0mignore_failures\u001b[0m\u001b[1;33m:\u001b[0m\u001b[1;33m\u001b[0m\u001b[1;33m\u001b[0m\u001b[0m\n",
      "\u001b[1;32mc:\\Users\\Owner\\anaconda3\\lib\\site-packages\\pandas\\core\\internals\\blocks.py\u001b[0m in \u001b[0;36mastype\u001b[1;34m(self, dtype, copy, errors)\u001b[0m\n\u001b[0;32m    589\u001b[0m         \u001b[0mvalues\u001b[0m \u001b[1;33m=\u001b[0m \u001b[0mself\u001b[0m\u001b[1;33m.\u001b[0m\u001b[0mvalues\u001b[0m\u001b[1;33m\u001b[0m\u001b[1;33m\u001b[0m\u001b[0m\n\u001b[0;32m    590\u001b[0m \u001b[1;33m\u001b[0m\u001b[0m\n\u001b[1;32m--> 591\u001b[1;33m         \u001b[0mnew_values\u001b[0m \u001b[1;33m=\u001b[0m \u001b[0mastype_array_safe\u001b[0m\u001b[1;33m(\u001b[0m\u001b[0mvalues\u001b[0m\u001b[1;33m,\u001b[0m \u001b[0mdtype\u001b[0m\u001b[1;33m,\u001b[0m \u001b[0mcopy\u001b[0m\u001b[1;33m=\u001b[0m\u001b[0mcopy\u001b[0m\u001b[1;33m,\u001b[0m \u001b[0merrors\u001b[0m\u001b[1;33m=\u001b[0m\u001b[0merrors\u001b[0m\u001b[1;33m)\u001b[0m\u001b[1;33m\u001b[0m\u001b[1;33m\u001b[0m\u001b[0m\n\u001b[0m\u001b[0;32m    592\u001b[0m \u001b[1;33m\u001b[0m\u001b[0m\n\u001b[0;32m    593\u001b[0m         \u001b[0mnew_values\u001b[0m \u001b[1;33m=\u001b[0m \u001b[0mmaybe_coerce_values\u001b[0m\u001b[1;33m(\u001b[0m\u001b[0mnew_values\u001b[0m\u001b[1;33m)\u001b[0m\u001b[1;33m\u001b[0m\u001b[1;33m\u001b[0m\u001b[0m\n",
      "\u001b[1;32mc:\\Users\\Owner\\anaconda3\\lib\\site-packages\\pandas\\core\\dtypes\\cast.py\u001b[0m in \u001b[0;36mastype_array_safe\u001b[1;34m(values, dtype, copy, errors)\u001b[0m\n\u001b[0;32m   1307\u001b[0m \u001b[1;33m\u001b[0m\u001b[0m\n\u001b[0;32m   1308\u001b[0m     \u001b[1;32mtry\u001b[0m\u001b[1;33m:\u001b[0m\u001b[1;33m\u001b[0m\u001b[1;33m\u001b[0m\u001b[0m\n\u001b[1;32m-> 1309\u001b[1;33m         \u001b[0mnew_values\u001b[0m \u001b[1;33m=\u001b[0m \u001b[0mastype_array\u001b[0m\u001b[1;33m(\u001b[0m\u001b[0mvalues\u001b[0m\u001b[1;33m,\u001b[0m \u001b[0mdtype\u001b[0m\u001b[1;33m,\u001b[0m \u001b[0mcopy\u001b[0m\u001b[1;33m=\u001b[0m\u001b[0mcopy\u001b[0m\u001b[1;33m)\u001b[0m\u001b[1;33m\u001b[0m\u001b[1;33m\u001b[0m\u001b[0m\n\u001b[0m\u001b[0;32m   1310\u001b[0m     \u001b[1;32mexcept\u001b[0m \u001b[1;33m(\u001b[0m\u001b[0mValueError\u001b[0m\u001b[1;33m,\u001b[0m \u001b[0mTypeError\u001b[0m\u001b[1;33m)\u001b[0m\u001b[1;33m:\u001b[0m\u001b[1;33m\u001b[0m\u001b[1;33m\u001b[0m\u001b[0m\n\u001b[0;32m   1311\u001b[0m         \u001b[1;31m# e.g. astype_nansafe can fail on object-dtype of strings\u001b[0m\u001b[1;33m\u001b[0m\u001b[1;33m\u001b[0m\u001b[0m\n",
      "\u001b[1;32mc:\\Users\\Owner\\anaconda3\\lib\\site-packages\\pandas\\core\\dtypes\\cast.py\u001b[0m in \u001b[0;36mastype_array\u001b[1;34m(values, dtype, copy)\u001b[0m\n\u001b[0;32m   1255\u001b[0m \u001b[1;33m\u001b[0m\u001b[0m\n\u001b[0;32m   1256\u001b[0m     \u001b[1;32melse\u001b[0m\u001b[1;33m:\u001b[0m\u001b[1;33m\u001b[0m\u001b[1;33m\u001b[0m\u001b[0m\n\u001b[1;32m-> 1257\u001b[1;33m         \u001b[0mvalues\u001b[0m \u001b[1;33m=\u001b[0m \u001b[0mastype_nansafe\u001b[0m\u001b[1;33m(\u001b[0m\u001b[0mvalues\u001b[0m\u001b[1;33m,\u001b[0m \u001b[0mdtype\u001b[0m\u001b[1;33m,\u001b[0m \u001b[0mcopy\u001b[0m\u001b[1;33m=\u001b[0m\u001b[0mcopy\u001b[0m\u001b[1;33m)\u001b[0m\u001b[1;33m\u001b[0m\u001b[1;33m\u001b[0m\u001b[0m\n\u001b[0m\u001b[0;32m   1258\u001b[0m \u001b[1;33m\u001b[0m\u001b[0m\n\u001b[0;32m   1259\u001b[0m     \u001b[1;31m# in pandas we don't store numpy str dtypes, so convert to object\u001b[0m\u001b[1;33m\u001b[0m\u001b[1;33m\u001b[0m\u001b[0m\n",
      "\u001b[1;32mc:\\Users\\Owner\\anaconda3\\lib\\site-packages\\pandas\\core\\dtypes\\cast.py\u001b[0m in \u001b[0;36mastype_nansafe\u001b[1;34m(arr, dtype, copy, skipna)\u001b[0m\n\u001b[0;32m   1199\u001b[0m     \u001b[1;32mif\u001b[0m \u001b[0mcopy\u001b[0m \u001b[1;32mor\u001b[0m \u001b[0mis_object_dtype\u001b[0m\u001b[1;33m(\u001b[0m\u001b[0marr\u001b[0m\u001b[1;33m.\u001b[0m\u001b[0mdtype\u001b[0m\u001b[1;33m)\u001b[0m \u001b[1;32mor\u001b[0m \u001b[0mis_object_dtype\u001b[0m\u001b[1;33m(\u001b[0m\u001b[0mdtype\u001b[0m\u001b[1;33m)\u001b[0m\u001b[1;33m:\u001b[0m\u001b[1;33m\u001b[0m\u001b[1;33m\u001b[0m\u001b[0m\n\u001b[0;32m   1200\u001b[0m         \u001b[1;31m# Explicit copy, or required since NumPy can't view from / to object.\u001b[0m\u001b[1;33m\u001b[0m\u001b[1;33m\u001b[0m\u001b[0m\n\u001b[1;32m-> 1201\u001b[1;33m         \u001b[1;32mreturn\u001b[0m \u001b[0marr\u001b[0m\u001b[1;33m.\u001b[0m\u001b[0mastype\u001b[0m\u001b[1;33m(\u001b[0m\u001b[0mdtype\u001b[0m\u001b[1;33m,\u001b[0m \u001b[0mcopy\u001b[0m\u001b[1;33m=\u001b[0m\u001b[1;32mTrue\u001b[0m\u001b[1;33m)\u001b[0m\u001b[1;33m\u001b[0m\u001b[1;33m\u001b[0m\u001b[0m\n\u001b[0m\u001b[0;32m   1202\u001b[0m \u001b[1;33m\u001b[0m\u001b[0m\n\u001b[0;32m   1203\u001b[0m     \u001b[1;32mreturn\u001b[0m \u001b[0marr\u001b[0m\u001b[1;33m.\u001b[0m\u001b[0mastype\u001b[0m\u001b[1;33m(\u001b[0m\u001b[0mdtype\u001b[0m\u001b[1;33m,\u001b[0m \u001b[0mcopy\u001b[0m\u001b[1;33m=\u001b[0m\u001b[0mcopy\u001b[0m\u001b[1;33m)\u001b[0m\u001b[1;33m\u001b[0m\u001b[1;33m\u001b[0m\u001b[0m\n",
      "\u001b[1;31mTypeError\u001b[0m: float() argument must be a string or a number, not 'method'"
     ]
    }
   ],
   "source": [
    "test4.Maker.fillna(test4.Maker.median(), inplace  = True)\n",
    "test4.Distance.fillna(test4.Distance.mean, inplace = True )\n",
    "# Convert to apporraite datatypes \n",
    "test4[['Year', 'Maker']]  = test4[['Year', 'Maker']].astype(int)\n",
    "test4['Distance']  = test4['Distance'].astype(float)\n"
   ]
  },
  {
   "cell_type": "code",
   "execution_count": null,
   "metadata": {},
   "outputs": [
    {
     "data": {
      "text/html": [
       "<div>\n",
       "<style scoped>\n",
       "    .dataframe tbody tr th:only-of-type {\n",
       "        vertical-align: middle;\n",
       "    }\n",
       "\n",
       "    .dataframe tbody tr th {\n",
       "        vertical-align: top;\n",
       "    }\n",
       "\n",
       "    .dataframe thead th {\n",
       "        text-align: right;\n",
       "    }\n",
       "</style>\n",
       "<table border=\"1\" class=\"dataframe\">\n",
       "  <thead>\n",
       "    <tr style=\"text-align: right;\">\n",
       "      <th></th>\n",
       "      <th>Location</th>\n",
       "      <th>Maker</th>\n",
       "      <th>Year</th>\n",
       "      <th>Distance</th>\n",
       "      <th>Type_Brand New</th>\n",
       "      <th>Type_Foreign Used</th>\n",
       "      <th>Type_Nigerian Used</th>\n",
       "    </tr>\n",
       "  </thead>\n",
       "  <tbody>\n",
       "    <tr>\n",
       "      <th>0</th>\n",
       "      <td>0</td>\n",
       "      <td>3</td>\n",
       "      <td>2008</td>\n",
       "      <td>30524.0</td>\n",
       "      <td>0</td>\n",
       "      <td>1</td>\n",
       "      <td>0</td>\n",
       "    </tr>\n",
       "    <tr>\n",
       "      <th>1</th>\n",
       "      <td>2</td>\n",
       "      <td>52</td>\n",
       "      <td>2013</td>\n",
       "      <td>69082.0</td>\n",
       "      <td>0</td>\n",
       "      <td>1</td>\n",
       "      <td>0</td>\n",
       "    </tr>\n",
       "    <tr>\n",
       "      <th>2</th>\n",
       "      <td>2</td>\n",
       "      <td>52</td>\n",
       "      <td>2005</td>\n",
       "      <td>85880.0</td>\n",
       "      <td>0</td>\n",
       "      <td>1</td>\n",
       "      <td>0</td>\n",
       "    </tr>\n",
       "    <tr>\n",
       "      <th>3</th>\n",
       "      <td>2</td>\n",
       "      <td>52</td>\n",
       "      <td>2011</td>\n",
       "      <td>166839.0</td>\n",
       "      <td>0</td>\n",
       "      <td>1</td>\n",
       "      <td>0</td>\n",
       "    </tr>\n",
       "    <tr>\n",
       "      <th>4</th>\n",
       "      <td>2</td>\n",
       "      <td>29</td>\n",
       "      <td>2013</td>\n",
       "      <td>88862.0</td>\n",
       "      <td>0</td>\n",
       "      <td>1</td>\n",
       "      <td>0</td>\n",
       "    </tr>\n",
       "  </tbody>\n",
       "</table>\n",
       "</div>"
      ],
      "text/plain": [
       "   Location  Maker  Year  Distance  Type_Brand New  Type_Foreign Used  \\\n",
       "0         0      3  2008   30524.0               0                  1   \n",
       "1         2     52  2013   69082.0               0                  1   \n",
       "2         2     52  2005   85880.0               0                  1   \n",
       "3         2     52  2011  166839.0               0                  1   \n",
       "4         2     29  2013   88862.0               0                  1   \n",
       "\n",
       "   Type_Nigerian Used  \n",
       "0                   0  \n",
       "1                   0  \n",
       "2                   0  \n",
       "3                   0  \n",
       "4                   0  "
      ]
     },
     "execution_count": 458,
     "metadata": {},
     "output_type": "execute_result"
    }
   ],
   "source": [
    "# Convert to \n",
    "test4 = pd.get_dummies(test4)\n",
    "test4.head()\n"
   ]
  },
  {
   "cell_type": "code",
   "execution_count": null,
   "metadata": {},
   "outputs": [
    {
     "data": {
      "text/html": [
       "<div>\n",
       "<style scoped>\n",
       "    .dataframe tbody tr th:only-of-type {\n",
       "        vertical-align: middle;\n",
       "    }\n",
       "\n",
       "    .dataframe tbody tr th {\n",
       "        vertical-align: top;\n",
       "    }\n",
       "\n",
       "    .dataframe thead th {\n",
       "        text-align: right;\n",
       "    }\n",
       "</style>\n",
       "<table border=\"1\" class=\"dataframe\">\n",
       "  <thead>\n",
       "    <tr style=\"text-align: right;\">\n",
       "      <th></th>\n",
       "      <th>Location</th>\n",
       "      <th>Maker</th>\n",
       "      <th>Model</th>\n",
       "      <th>Year</th>\n",
       "      <th>Amount</th>\n",
       "      <th>Distance</th>\n",
       "      <th>Type_Brand New</th>\n",
       "      <th>Type_Foreign Used</th>\n",
       "      <th>Type_Nigerian Used</th>\n",
       "    </tr>\n",
       "  </thead>\n",
       "  <tbody>\n",
       "    <tr>\n",
       "      <th>0</th>\n",
       "      <td>0</td>\n",
       "      <td>17</td>\n",
       "      <td>117</td>\n",
       "      <td>2011</td>\n",
       "      <td>2.2</td>\n",
       "      <td>92828.0</td>\n",
       "      <td>0</td>\n",
       "      <td>0</td>\n",
       "      <td>1</td>\n",
       "    </tr>\n",
       "    <tr>\n",
       "      <th>1</th>\n",
       "      <td>1</td>\n",
       "      <td>19</td>\n",
       "      <td>1049</td>\n",
       "      <td>2012</td>\n",
       "      <td>3.5</td>\n",
       "      <td>125000.0</td>\n",
       "      <td>0</td>\n",
       "      <td>0</td>\n",
       "      <td>1</td>\n",
       "    </tr>\n",
       "    <tr>\n",
       "      <th>2</th>\n",
       "      <td>2</td>\n",
       "      <td>29</td>\n",
       "      <td>908</td>\n",
       "      <td>2010</td>\n",
       "      <td>9.2</td>\n",
       "      <td>110852.0</td>\n",
       "      <td>0</td>\n",
       "      <td>1</td>\n",
       "      <td>0</td>\n",
       "    </tr>\n",
       "    <tr>\n",
       "      <th>3</th>\n",
       "      <td>0</td>\n",
       "      <td>34</td>\n",
       "      <td>508</td>\n",
       "      <td>2017</td>\n",
       "      <td>22.8</td>\n",
       "      <td>30000.0</td>\n",
       "      <td>0</td>\n",
       "      <td>1</td>\n",
       "      <td>0</td>\n",
       "    </tr>\n",
       "    <tr>\n",
       "      <th>4</th>\n",
       "      <td>1</td>\n",
       "      <td>52</td>\n",
       "      <td>569</td>\n",
       "      <td>2002</td>\n",
       "      <td>2.6</td>\n",
       "      <td>125206.0</td>\n",
       "      <td>0</td>\n",
       "      <td>0</td>\n",
       "      <td>1</td>\n",
       "    </tr>\n",
       "  </tbody>\n",
       "</table>\n",
       "</div>"
      ],
      "text/plain": [
       "   Location  Maker  Model  Year  Amount  Distance  Type_Brand New  \\\n",
       "0         0     17    117  2011     2.2   92828.0               0   \n",
       "1         1     19   1049  2012     3.5  125000.0               0   \n",
       "2         2     29    908  2010     9.2  110852.0               0   \n",
       "3         0     34    508  2017    22.8   30000.0               0   \n",
       "4         1     52    569  2002     2.6  125206.0               0   \n",
       "\n",
       "   Type_Foreign Used  Type_Nigerian Used  \n",
       "0                  0                   1  \n",
       "1                  0                   1  \n",
       "2                  1                   0  \n",
       "3                  1                   0  \n",
       "4                  0                   1  "
      ]
     },
     "execution_count": 459,
     "metadata": {},
     "output_type": "execute_result"
    }
   ],
   "source": [
    "traindemo.head()"
   ]
  },
  {
   "cell_type": "markdown",
   "metadata": {},
   "source": [
    "#### APPLYING MACHINE LEARNING MODELS \n",
    "\n"
   ]
  },
  {
   "cell_type": "code",
   "execution_count": null,
   "metadata": {},
   "outputs": [],
   "source": [
    "X = traindemo.drop(columns = 'Amount')\n",
    "Y = traindemo.Amount"
   ]
  },
  {
   "cell_type": "code",
   "execution_count": null,
   "metadata": {},
   "outputs": [
    {
     "ename": "TypeError",
     "evalue": "float() argument must be a string or a number, not 'method'",
     "output_type": "error",
     "traceback": [
      "\u001b[1;31m---------------------------------------------------------------------------\u001b[0m",
      "\u001b[1;31mTypeError\u001b[0m                                 Traceback (most recent call last)",
      "\u001b[1;32m~\\AppData\\Local\\Temp/ipykernel_10732/538719882.py\u001b[0m in \u001b[0;36m<module>\u001b[1;34m\u001b[0m\n\u001b[0;32m      7\u001b[0m \u001b[1;33m\u001b[0m\u001b[0m\n\u001b[0;32m      8\u001b[0m \u001b[1;31m# Make PREDICTIONS\u001b[0m\u001b[1;33m\u001b[0m\u001b[1;33m\u001b[0m\u001b[0m\n\u001b[1;32m----> 9\u001b[1;33m \u001b[0mprices\u001b[0m \u001b[1;33m=\u001b[0m \u001b[0mmodel\u001b[0m\u001b[1;33m.\u001b[0m\u001b[0mpredict\u001b[0m\u001b[1;33m(\u001b[0m\u001b[0mtest4\u001b[0m\u001b[1;33m)\u001b[0m\u001b[1;33m\u001b[0m\u001b[1;33m\u001b[0m\u001b[0m\n\u001b[0m\u001b[0;32m     10\u001b[0m \u001b[1;33m\u001b[0m\u001b[0m\n\u001b[0;32m     11\u001b[0m \u001b[1;31m#SAEV AS FILE\u001b[0m\u001b[1;33m\u001b[0m\u001b[1;33m\u001b[0m\u001b[0m\n",
      "\u001b[1;32mc:\\Users\\Owner\\anaconda3\\lib\\site-packages\\sklearn\\ensemble\\_forest.py\u001b[0m in \u001b[0;36mpredict\u001b[1;34m(self, X)\u001b[0m\n\u001b[0;32m    782\u001b[0m         \u001b[0mcheck_is_fitted\u001b[0m\u001b[1;33m(\u001b[0m\u001b[0mself\u001b[0m\u001b[1;33m)\u001b[0m\u001b[1;33m\u001b[0m\u001b[1;33m\u001b[0m\u001b[0m\n\u001b[0;32m    783\u001b[0m         \u001b[1;31m# Check data\u001b[0m\u001b[1;33m\u001b[0m\u001b[1;33m\u001b[0m\u001b[0m\n\u001b[1;32m--> 784\u001b[1;33m         \u001b[0mX\u001b[0m \u001b[1;33m=\u001b[0m \u001b[0mself\u001b[0m\u001b[1;33m.\u001b[0m\u001b[0m_validate_X_predict\u001b[0m\u001b[1;33m(\u001b[0m\u001b[0mX\u001b[0m\u001b[1;33m)\u001b[0m\u001b[1;33m\u001b[0m\u001b[1;33m\u001b[0m\u001b[0m\n\u001b[0m\u001b[0;32m    785\u001b[0m \u001b[1;33m\u001b[0m\u001b[0m\n\u001b[0;32m    786\u001b[0m         \u001b[1;31m# Assign chunk of trees to jobs\u001b[0m\u001b[1;33m\u001b[0m\u001b[1;33m\u001b[0m\u001b[0m\n",
      "\u001b[1;32mc:\\Users\\Owner\\anaconda3\\lib\\site-packages\\sklearn\\ensemble\\_forest.py\u001b[0m in \u001b[0;36m_validate_X_predict\u001b[1;34m(self, X)\u001b[0m\n\u001b[0;32m    420\u001b[0m         \u001b[0mcheck_is_fitted\u001b[0m\u001b[1;33m(\u001b[0m\u001b[0mself\u001b[0m\u001b[1;33m)\u001b[0m\u001b[1;33m\u001b[0m\u001b[1;33m\u001b[0m\u001b[0m\n\u001b[0;32m    421\u001b[0m \u001b[1;33m\u001b[0m\u001b[0m\n\u001b[1;32m--> 422\u001b[1;33m         \u001b[1;32mreturn\u001b[0m \u001b[0mself\u001b[0m\u001b[1;33m.\u001b[0m\u001b[0mestimators_\u001b[0m\u001b[1;33m[\u001b[0m\u001b[1;36m0\u001b[0m\u001b[1;33m]\u001b[0m\u001b[1;33m.\u001b[0m\u001b[0m_validate_X_predict\u001b[0m\u001b[1;33m(\u001b[0m\u001b[0mX\u001b[0m\u001b[1;33m,\u001b[0m \u001b[0mcheck_input\u001b[0m\u001b[1;33m=\u001b[0m\u001b[1;32mTrue\u001b[0m\u001b[1;33m)\u001b[0m\u001b[1;33m\u001b[0m\u001b[1;33m\u001b[0m\u001b[0m\n\u001b[0m\u001b[0;32m    423\u001b[0m \u001b[1;33m\u001b[0m\u001b[0m\n\u001b[0;32m    424\u001b[0m     \u001b[1;33m@\u001b[0m\u001b[0mproperty\u001b[0m\u001b[1;33m\u001b[0m\u001b[1;33m\u001b[0m\u001b[0m\n",
      "\u001b[1;32mc:\\Users\\Owner\\anaconda3\\lib\\site-packages\\sklearn\\tree\\_classes.py\u001b[0m in \u001b[0;36m_validate_X_predict\u001b[1;34m(self, X, check_input)\u001b[0m\n\u001b[0;32m    405\u001b[0m         \u001b[1;34m\"\"\"Validate the training data on predict (probabilities).\"\"\"\u001b[0m\u001b[1;33m\u001b[0m\u001b[1;33m\u001b[0m\u001b[0m\n\u001b[0;32m    406\u001b[0m         \u001b[1;32mif\u001b[0m \u001b[0mcheck_input\u001b[0m\u001b[1;33m:\u001b[0m\u001b[1;33m\u001b[0m\u001b[1;33m\u001b[0m\u001b[0m\n\u001b[1;32m--> 407\u001b[1;33m             X = self._validate_data(X, dtype=DTYPE, accept_sparse=\"csr\",\n\u001b[0m\u001b[0;32m    408\u001b[0m                                     reset=False)\n\u001b[0;32m    409\u001b[0m             if issparse(X) and (X.indices.dtype != np.intc or\n",
      "\u001b[1;32mc:\\Users\\Owner\\anaconda3\\lib\\site-packages\\sklearn\\base.py\u001b[0m in \u001b[0;36m_validate_data\u001b[1;34m(self, X, y, reset, validate_separately, **check_params)\u001b[0m\n\u001b[0;32m    419\u001b[0m             \u001b[0mout\u001b[0m \u001b[1;33m=\u001b[0m \u001b[0mX\u001b[0m\u001b[1;33m\u001b[0m\u001b[1;33m\u001b[0m\u001b[0m\n\u001b[0;32m    420\u001b[0m         \u001b[1;32melif\u001b[0m \u001b[0misinstance\u001b[0m\u001b[1;33m(\u001b[0m\u001b[0my\u001b[0m\u001b[1;33m,\u001b[0m \u001b[0mstr\u001b[0m\u001b[1;33m)\u001b[0m \u001b[1;32mand\u001b[0m \u001b[0my\u001b[0m \u001b[1;33m==\u001b[0m \u001b[1;34m'no_validation'\u001b[0m\u001b[1;33m:\u001b[0m\u001b[1;33m\u001b[0m\u001b[1;33m\u001b[0m\u001b[0m\n\u001b[1;32m--> 421\u001b[1;33m             \u001b[0mX\u001b[0m \u001b[1;33m=\u001b[0m \u001b[0mcheck_array\u001b[0m\u001b[1;33m(\u001b[0m\u001b[0mX\u001b[0m\u001b[1;33m,\u001b[0m \u001b[1;33m**\u001b[0m\u001b[0mcheck_params\u001b[0m\u001b[1;33m)\u001b[0m\u001b[1;33m\u001b[0m\u001b[1;33m\u001b[0m\u001b[0m\n\u001b[0m\u001b[0;32m    422\u001b[0m             \u001b[0mout\u001b[0m \u001b[1;33m=\u001b[0m \u001b[0mX\u001b[0m\u001b[1;33m\u001b[0m\u001b[1;33m\u001b[0m\u001b[0m\n\u001b[0;32m    423\u001b[0m         \u001b[1;32melse\u001b[0m\u001b[1;33m:\u001b[0m\u001b[1;33m\u001b[0m\u001b[1;33m\u001b[0m\u001b[0m\n",
      "\u001b[1;32mc:\\Users\\Owner\\anaconda3\\lib\\site-packages\\sklearn\\utils\\validation.py\u001b[0m in \u001b[0;36minner_f\u001b[1;34m(*args, **kwargs)\u001b[0m\n\u001b[0;32m     61\u001b[0m             \u001b[0mextra_args\u001b[0m \u001b[1;33m=\u001b[0m \u001b[0mlen\u001b[0m\u001b[1;33m(\u001b[0m\u001b[0margs\u001b[0m\u001b[1;33m)\u001b[0m \u001b[1;33m-\u001b[0m \u001b[0mlen\u001b[0m\u001b[1;33m(\u001b[0m\u001b[0mall_args\u001b[0m\u001b[1;33m)\u001b[0m\u001b[1;33m\u001b[0m\u001b[1;33m\u001b[0m\u001b[0m\n\u001b[0;32m     62\u001b[0m             \u001b[1;32mif\u001b[0m \u001b[0mextra_args\u001b[0m \u001b[1;33m<=\u001b[0m \u001b[1;36m0\u001b[0m\u001b[1;33m:\u001b[0m\u001b[1;33m\u001b[0m\u001b[1;33m\u001b[0m\u001b[0m\n\u001b[1;32m---> 63\u001b[1;33m                 \u001b[1;32mreturn\u001b[0m \u001b[0mf\u001b[0m\u001b[1;33m(\u001b[0m\u001b[1;33m*\u001b[0m\u001b[0margs\u001b[0m\u001b[1;33m,\u001b[0m \u001b[1;33m**\u001b[0m\u001b[0mkwargs\u001b[0m\u001b[1;33m)\u001b[0m\u001b[1;33m\u001b[0m\u001b[1;33m\u001b[0m\u001b[0m\n\u001b[0m\u001b[0;32m     64\u001b[0m \u001b[1;33m\u001b[0m\u001b[0m\n\u001b[0;32m     65\u001b[0m             \u001b[1;31m# extra_args > 0\u001b[0m\u001b[1;33m\u001b[0m\u001b[1;33m\u001b[0m\u001b[0m\n",
      "\u001b[1;32mc:\\Users\\Owner\\anaconda3\\lib\\site-packages\\sklearn\\utils\\validation.py\u001b[0m in \u001b[0;36mcheck_array\u001b[1;34m(array, accept_sparse, accept_large_sparse, dtype, order, copy, force_all_finite, ensure_2d, allow_nd, ensure_min_samples, ensure_min_features, estimator)\u001b[0m\n\u001b[0;32m    671\u001b[0m                     \u001b[0marray\u001b[0m \u001b[1;33m=\u001b[0m \u001b[0marray\u001b[0m\u001b[1;33m.\u001b[0m\u001b[0mastype\u001b[0m\u001b[1;33m(\u001b[0m\u001b[0mdtype\u001b[0m\u001b[1;33m,\u001b[0m \u001b[0mcasting\u001b[0m\u001b[1;33m=\u001b[0m\u001b[1;34m\"unsafe\"\u001b[0m\u001b[1;33m,\u001b[0m \u001b[0mcopy\u001b[0m\u001b[1;33m=\u001b[0m\u001b[1;32mFalse\u001b[0m\u001b[1;33m)\u001b[0m\u001b[1;33m\u001b[0m\u001b[1;33m\u001b[0m\u001b[0m\n\u001b[0;32m    672\u001b[0m                 \u001b[1;32melse\u001b[0m\u001b[1;33m:\u001b[0m\u001b[1;33m\u001b[0m\u001b[1;33m\u001b[0m\u001b[0m\n\u001b[1;32m--> 673\u001b[1;33m                     \u001b[0marray\u001b[0m \u001b[1;33m=\u001b[0m \u001b[0mnp\u001b[0m\u001b[1;33m.\u001b[0m\u001b[0masarray\u001b[0m\u001b[1;33m(\u001b[0m\u001b[0marray\u001b[0m\u001b[1;33m,\u001b[0m \u001b[0morder\u001b[0m\u001b[1;33m=\u001b[0m\u001b[0morder\u001b[0m\u001b[1;33m,\u001b[0m \u001b[0mdtype\u001b[0m\u001b[1;33m=\u001b[0m\u001b[0mdtype\u001b[0m\u001b[1;33m)\u001b[0m\u001b[1;33m\u001b[0m\u001b[1;33m\u001b[0m\u001b[0m\n\u001b[0m\u001b[0;32m    674\u001b[0m             \u001b[1;32mexcept\u001b[0m \u001b[0mComplexWarning\u001b[0m \u001b[1;32mas\u001b[0m \u001b[0mcomplex_warning\u001b[0m\u001b[1;33m:\u001b[0m\u001b[1;33m\u001b[0m\u001b[1;33m\u001b[0m\u001b[0m\n\u001b[0;32m    675\u001b[0m                 raise ValueError(\"Complex data not supported\\n\"\n",
      "\u001b[1;32mc:\\Users\\Owner\\anaconda3\\lib\\site-packages\\numpy\\core\\_asarray.py\u001b[0m in \u001b[0;36masarray\u001b[1;34m(a, dtype, order, like)\u001b[0m\n\u001b[0;32m    100\u001b[0m         \u001b[1;32mreturn\u001b[0m \u001b[0m_asarray_with_like\u001b[0m\u001b[1;33m(\u001b[0m\u001b[0ma\u001b[0m\u001b[1;33m,\u001b[0m \u001b[0mdtype\u001b[0m\u001b[1;33m=\u001b[0m\u001b[0mdtype\u001b[0m\u001b[1;33m,\u001b[0m \u001b[0morder\u001b[0m\u001b[1;33m=\u001b[0m\u001b[0morder\u001b[0m\u001b[1;33m,\u001b[0m \u001b[0mlike\u001b[0m\u001b[1;33m=\u001b[0m\u001b[0mlike\u001b[0m\u001b[1;33m)\u001b[0m\u001b[1;33m\u001b[0m\u001b[1;33m\u001b[0m\u001b[0m\n\u001b[0;32m    101\u001b[0m \u001b[1;33m\u001b[0m\u001b[0m\n\u001b[1;32m--> 102\u001b[1;33m     \u001b[1;32mreturn\u001b[0m \u001b[0marray\u001b[0m\u001b[1;33m(\u001b[0m\u001b[0ma\u001b[0m\u001b[1;33m,\u001b[0m \u001b[0mdtype\u001b[0m\u001b[1;33m,\u001b[0m \u001b[0mcopy\u001b[0m\u001b[1;33m=\u001b[0m\u001b[1;32mFalse\u001b[0m\u001b[1;33m,\u001b[0m \u001b[0morder\u001b[0m\u001b[1;33m=\u001b[0m\u001b[0morder\u001b[0m\u001b[1;33m)\u001b[0m\u001b[1;33m\u001b[0m\u001b[1;33m\u001b[0m\u001b[0m\n\u001b[0m\u001b[0;32m    103\u001b[0m \u001b[1;33m\u001b[0m\u001b[0m\n\u001b[0;32m    104\u001b[0m \u001b[1;33m\u001b[0m\u001b[0m\n",
      "\u001b[1;32mc:\\Users\\Owner\\anaconda3\\lib\\site-packages\\pandas\\core\\generic.py\u001b[0m in \u001b[0;36m__array__\u001b[1;34m(self, dtype)\u001b[0m\n\u001b[0;32m   1991\u001b[0m \u001b[1;33m\u001b[0m\u001b[0m\n\u001b[0;32m   1992\u001b[0m     \u001b[1;32mdef\u001b[0m \u001b[0m__array__\u001b[0m\u001b[1;33m(\u001b[0m\u001b[0mself\u001b[0m\u001b[1;33m,\u001b[0m \u001b[0mdtype\u001b[0m\u001b[1;33m:\u001b[0m \u001b[0mNpDtype\u001b[0m \u001b[1;33m|\u001b[0m \u001b[1;32mNone\u001b[0m \u001b[1;33m=\u001b[0m \u001b[1;32mNone\u001b[0m\u001b[1;33m)\u001b[0m \u001b[1;33m->\u001b[0m \u001b[0mnp\u001b[0m\u001b[1;33m.\u001b[0m\u001b[0mndarray\u001b[0m\u001b[1;33m:\u001b[0m\u001b[1;33m\u001b[0m\u001b[1;33m\u001b[0m\u001b[0m\n\u001b[1;32m-> 1993\u001b[1;33m         \u001b[1;32mreturn\u001b[0m \u001b[0mnp\u001b[0m\u001b[1;33m.\u001b[0m\u001b[0masarray\u001b[0m\u001b[1;33m(\u001b[0m\u001b[0mself\u001b[0m\u001b[1;33m.\u001b[0m\u001b[0m_values\u001b[0m\u001b[1;33m,\u001b[0m \u001b[0mdtype\u001b[0m\u001b[1;33m=\u001b[0m\u001b[0mdtype\u001b[0m\u001b[1;33m)\u001b[0m\u001b[1;33m\u001b[0m\u001b[1;33m\u001b[0m\u001b[0m\n\u001b[0m\u001b[0;32m   1994\u001b[0m \u001b[1;33m\u001b[0m\u001b[0m\n\u001b[0;32m   1995\u001b[0m     def __array_wrap__(\n",
      "\u001b[1;32mc:\\Users\\Owner\\anaconda3\\lib\\site-packages\\numpy\\core\\_asarray.py\u001b[0m in \u001b[0;36masarray\u001b[1;34m(a, dtype, order, like)\u001b[0m\n\u001b[0;32m    100\u001b[0m         \u001b[1;32mreturn\u001b[0m \u001b[0m_asarray_with_like\u001b[0m\u001b[1;33m(\u001b[0m\u001b[0ma\u001b[0m\u001b[1;33m,\u001b[0m \u001b[0mdtype\u001b[0m\u001b[1;33m=\u001b[0m\u001b[0mdtype\u001b[0m\u001b[1;33m,\u001b[0m \u001b[0morder\u001b[0m\u001b[1;33m=\u001b[0m\u001b[0morder\u001b[0m\u001b[1;33m,\u001b[0m \u001b[0mlike\u001b[0m\u001b[1;33m=\u001b[0m\u001b[0mlike\u001b[0m\u001b[1;33m)\u001b[0m\u001b[1;33m\u001b[0m\u001b[1;33m\u001b[0m\u001b[0m\n\u001b[0;32m    101\u001b[0m \u001b[1;33m\u001b[0m\u001b[0m\n\u001b[1;32m--> 102\u001b[1;33m     \u001b[1;32mreturn\u001b[0m \u001b[0marray\u001b[0m\u001b[1;33m(\u001b[0m\u001b[0ma\u001b[0m\u001b[1;33m,\u001b[0m \u001b[0mdtype\u001b[0m\u001b[1;33m,\u001b[0m \u001b[0mcopy\u001b[0m\u001b[1;33m=\u001b[0m\u001b[1;32mFalse\u001b[0m\u001b[1;33m,\u001b[0m \u001b[0morder\u001b[0m\u001b[1;33m=\u001b[0m\u001b[0morder\u001b[0m\u001b[1;33m)\u001b[0m\u001b[1;33m\u001b[0m\u001b[1;33m\u001b[0m\u001b[0m\n\u001b[0m\u001b[0;32m    103\u001b[0m \u001b[1;33m\u001b[0m\u001b[0m\n\u001b[0;32m    104\u001b[0m \u001b[1;33m\u001b[0m\u001b[0m\n",
      "\u001b[1;31mTypeError\u001b[0m: float() argument must be a string or a number, not 'method'"
     ]
    }
   ],
   "source": [
    "#EVAL DISTANCE USING RANDOM FOR ATTAINING MISSING DISTANCE\n",
    "from sklearn.ensemble import RandomForestRegressor\n",
    "model = RandomForestRegressor()\n",
    "\n",
    "#Train Model\n",
    "model.fit(X, Y)\n",
    "\n",
    "# Make PREDICTIONS \n",
    "prices = model.predict(test4)\n",
    "\n",
    "#SAEV AS FILE\n",
    "pd.DataFrame({'VehicleID' : vechile , 'Amount (Million Naira)' : prices}).to_csv('christain + randomforest.csv', index =- False)"
   ]
  },
  {
   "cell_type": "code",
   "execution_count": null,
   "metadata": {},
   "outputs": [],
   "source": [
    "#EVAL DISTANCE USING RANDOM FOR ATTAINING MISSING DISTANCE\n",
    "import xgboost as xgb\n",
    "model = xgb.XGBRegressor(n_estimators = 25)\n",
    "\n",
    "\n",
    "#Train Model\n",
    "model.fit(X, Y)\n",
    "\n",
    "# Make PREDICTIONS \n",
    "prices = model.predict(test4)\n",
    "\n",
    "#SAEV AS FILE\n",
    "pd.DataFrame({'VehicleID' : vechile , 'Amount (Million Naira)' : prices}).to_csv('christain + XGB.csv', index =- False)\n"
   ]
  },
  {
   "cell_type": "code",
   "execution_count": null,
   "metadata": {},
   "outputs": [],
   "source": [
    "from sklearn.neighbors import KNeighborsRegressor\n",
    "model = KNeighborsRegressor()\n",
    "\n",
    "model.fit(X, Y)\n",
    "\n",
    "prices = model.predict(test4)\n",
    "\n",
    "\n",
    "#SAEV AS FILE\n",
    "pd.DataFrame({'VehicleID' : vechile , 'Amount (Million Naira)' : prices}).to_csv('christain + KNN.csv', index =- False)\n"
   ]
  }
 ],
 "metadata": {
  "interpreter": {
   "hash": "585a938ec471c889bf0cce0aed741a99eaf47ca09c0fa8393793bc5bfe77ba11"
  },
  "kernelspec": {
   "display_name": "Python 3.9.7 ('base')",
   "language": "python",
   "name": "python3"
  },
  "language_info": {
   "codemirror_mode": {
    "name": "ipython",
    "version": 3
   },
   "file_extension": ".py",
   "mimetype": "text/x-python",
   "name": "python",
   "nbconvert_exporter": "python",
   "pygments_lexer": "ipython3",
   "version": "3.9.7"
  },
  "orig_nbformat": 4
 },
 "nbformat": 4,
 "nbformat_minor": 2
}
